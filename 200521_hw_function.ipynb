{
 "cells": [
  {
   "cell_type": "markdown",
   "metadata": {},
   "source": [
    "1. 키와 몸무게를 입력받아 비만도를 구하고 결과를 출력하시요\n",
    "\n",
    "표준체중(kg)=(신장(cm)-100)×0.85\n",
    "비만도(%)=현재체중/표준체중(%)×100\n",
    "\n",
    "비만 등급을 4단계로 구한다\n",
    "비만도가90%이하 -->저체중\n",
    "90초과~110%     --> 정상\n",
    "110초과~120%   --> 과체중\n",
    "120%초과         -->  비만 \n",
    "\n",
    "(힌트)\n",
    "- calc_fat_ratio() 함수는 키와 몸무게를 인자로 받아 얻어진 비만도와 비만등급을 반환해준다\n",
    "- get_health_info() 함수는 사용자로 부터 키와 몸무게 값을 입력받고 calc_fat_ratio() 함수를 호출하여\n",
    "   반환된 결과를 format()을 사용 print()로 출력해준다"
   ]
  },
  {
   "cell_type": "code",
   "execution_count": 3,
   "metadata": {},
   "outputs": [
    {
     "name": "stdout",
     "output_type": "stream",
     "text": [
      "(68.0, '저체중')\n"
     ]
    }
   ],
   "source": [
    "def func(weight, height):\n",
    "    grade = (height-100)*0.85\n",
    "    rs = None\n",
    "    if 120 < grade:\n",
    "        rs = '비만'\n",
    "    elif 110 < grade:\n",
    "        rs = '과체중'\n",
    "    elif 90 < grade:\n",
    "        rs = '정상'\n",
    "    else:\n",
    "        rs = '저체중'\n",
    "    return grade, rs\n",
    "print(func(90, 180))"
   ]
  },
  {
   "cell_type": "markdown",
   "metadata": {},
   "source": [
    "2. 1개의 점수를 입력받아 다음 5개의 등급을 출력해주는 코드를 구현하시요\n",
    "  사전(Dict)를 이용하여 구하시요\n",
    "\n",
    "    90~100 --> 'A'\n",
    "    80~89 --> 'B'\n",
    "    70~79 --> 'C'\n",
    "    60~69 --> 'D'\n",
    "    나머지는 --> 'F'\n",
    "\n",
    "(힌트)\n",
    "- get_grade() 함수는 점수를 인자로 받아 얻어진 등급을 반환해준다\n",
    "- input_score_to_grade() 함수는 무한 루프를 돌면서 사용자로 부터 점수를 입력받아 get_grade() 함수를 호출하여\n",
    "  반환된 결과를 print()로 출력하고 만일 0보다 작은 값(-1)을 입력하면 프로그램이 종료된다"
   ]
  },
  {
   "cell_type": "code",
   "execution_count": 7,
   "metadata": {},
   "outputs": [
    {
     "name": "stdout",
     "output_type": "stream",
     "text": [
      "score? :100\n",
      "A\n",
      "score? :89\n",
      "B\n",
      "score? :25\n",
      "F\n",
      "score? :-1\n"
     ]
    }
   ],
   "source": [
    "def get_grade(score):\n",
    "    rs = None\n",
    "    if 90<score:\n",
    "        rs = 'A'\n",
    "    elif 80<score:\n",
    "        rs = 'B'\n",
    "    elif 70<score:\n",
    "        rs = 'C'\n",
    "    else:\n",
    "        rs = 'F'\n",
    "    return rs\n",
    "\n",
    "def input_score_to_grade():\n",
    "    while True:\n",
    "        score = int(input('score? :'))\n",
    "        if score < 0:\n",
    "            break\n",
    "        else:\n",
    "            print(get_grade(score))\n",
    "\n",
    "input_score_to_grade()"
   ]
  },
  {
   "cell_type": "markdown",
   "metadata": {},
   "source": [
    "3. m(미터) 를 입력받아 마일로 변환하시요\n",
    "   (1 mile =  1.609 meter)\n",
    "\n",
    "(힌트)\n",
    "- get_mile() 함수는 미터값을 인자로 받아 변환된 마일 값을 반환해준다\n",
    "- input_meter_to_mile() 함수는 무한 루프를 돌면서 사용자로 부터 미터를 입력받아 get_mile() 함수를 호출하여\n",
    "  반환된 결과를 print()로 출력하고 만일 0보다 작은 값(-1)을 입력하면 프로그램이 종료된다\n"
   ]
  },
  {
   "cell_type": "code",
   "execution_count": 12,
   "metadata": {},
   "outputs": [
    {
     "name": "stdout",
     "output_type": "stream",
     "text": [
      "meter?:1000\n",
      "621.5040397762585\n",
      "meter?:1609\n",
      "1000.0\n",
      "meter?:-1\n"
     ]
    }
   ],
   "source": [
    "def get_mile(meter):\n",
    "    return meter*1000/1609\n",
    "\n",
    "def input_meter_to_mile():\n",
    "    while True:\n",
    "        m = int(input('meter?:'))\n",
    "        if m < 0 :\n",
    "            break\n",
    "        else:\n",
    "            print(get_mile(m))\n",
    "\n",
    "input_meter_to_mile()    "
   ]
  },
  {
   "cell_type": "markdown",
   "metadata": {},
   "source": [
    "4. 화씨 를 입력받아 섭씨로 변환하시요\n",
    "   (celsius = ( fahrenheit - 32 ) / 1.8)\n",
    "\n",
    "(힌트)\n",
    "- get_celsius() 함수는 화씨 값을 인자로 받아 변환된 섭씨 값을 반환해준다\n",
    "- input_fahrenheit_to_celsius() 함수는 사용자로 부터 미터를 입력받아 get_celsius() 함수를 호출하여\n",
    "  반환된 결과를 format()을 사용 print()로 출력한다. 반복 루프로 구현하지 않고 1회만 수행한다\n",
    " "
   ]
  },
  {
   "cell_type": "code",
   "execution_count": 14,
   "metadata": {},
   "outputs": [
    {
     "name": "stdout",
     "output_type": "stream",
     "text": [
      "f?:100\n",
      "37.77777777777778\n"
     ]
    }
   ],
   "source": [
    "def get_celsius(f):\n",
    "    return (f-32)/1.8\n",
    "\n",
    "def input_fahrenheit_to_celsius():\n",
    "    f = int(input('f?:'))\n",
    "    print(get_celsius(f))\n",
    "\n",
    "input_fahrenheit_to_celsius()"
   ]
  },
  {
   "cell_type": "markdown",
   "metadata": {},
   "source": [
    "5. 하나의 정수를 입력받아 약수와 약수의 갯수를 구하는 함수를 구현하세요.\n",
    "   (어떤 정수 n을 자연수 k로 나누어 나머지가 0 일경우 k는 정수 n의 약수이다)\n",
    "\n",
    "(힌트)\n",
    "- get_divisor() 함수는 수를 인자로 받아 얻어진 약수를 리스트로 반환해준다\n",
    "- input_number_for_divisor() 함수는 무한 루프를 돌면서 사용자로 부터 정수를 입력받아 get_divisor() 함수를 호출하여\n",
    "  반환된 결과와 약수의 갯수(리스트의 크기)를 print()로 출력하고 만일 0을 입력하면 프로그램이 종료된다   \n"
   ]
  },
  {
   "cell_type": "code",
   "execution_count": 22,
   "metadata": {},
   "outputs": [
    {
     "name": "stdout",
     "output_type": "stream",
     "text": [
      "num?:0\n"
     ]
    }
   ],
   "source": [
    "def get_divisor(num):\n",
    "    return [k for k in range(1, num+1) if num%k==0]\n",
    "\n",
    "def input_num_for_divisor():\n",
    "    while True:\n",
    "        ipt = int(input('num?:'))\n",
    "        if ipt == 0 :\n",
    "            break\n",
    "        else:\n",
    "            print(get_divisor(ipt), len(get_divisor(ipt)))\n",
    "        \n",
    "\n",
    "input_num_for_divisor()"
   ]
  },
  {
   "cell_type": "code",
   "execution_count": null,
   "metadata": {},
   "outputs": [],
   "source": []
  }
 ],
 "metadata": {
  "kernelspec": {
   "display_name": "Python 3",
   "language": "python",
   "name": "python3"
  },
  "language_info": {
   "codemirror_mode": {
    "name": "ipython",
    "version": 3
   },
   "file_extension": ".py",
   "mimetype": "text/x-python",
   "name": "python",
   "nbconvert_exporter": "python",
   "pygments_lexer": "ipython3",
   "version": "3.7.6"
  }
 },
 "nbformat": 4,
 "nbformat_minor": 4
}
