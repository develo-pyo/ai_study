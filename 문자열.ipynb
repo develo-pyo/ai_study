{
 "cells": [
  {
   "cell_type": "markdown",
   "metadata": {},
   "source": [
    "### 문자열(String)\n",
    "불변형(immutable), 시퀀스형"
   ]
  },
  {
   "cell_type": "code",
   "execution_count": 9,
   "metadata": {},
   "outputs": [
    {
     "name": "stdout",
     "output_type": "stream",
     "text": [
      "hello python\n",
      "<class 'str'>\n",
      "\n",
      "Desc :This is a test code!!\n",
      "Date : 2020-05-18\n",
      "\n",
      "this is a 'double' quotation\n"
     ]
    }
   ],
   "source": [
    "str1 = \"hello python\"\n",
    "print(str1)\n",
    "print(type(str1))\n",
    "\n",
    "str2 = 'Good Bye'\n",
    "str3 = \\\n",
    "'''\n",
    "Desc :This is a test code!!\n",
    "Date : 2020-05-18\n",
    "'''\n",
    "print(str3)\n",
    "\n",
    "str4 = \"this is a 'double' quotation\"\n",
    "print(str4)"
   ]
  },
  {
   "cell_type": "markdown",
   "metadata": {},
   "source": [
    "### 문자열 indexing 과 slicing"
   ]
  },
  {
   "cell_type": "code",
   "execution_count": 27,
   "metadata": {},
   "outputs": [
    {
     "name": "stdout",
     "output_type": "stream",
     "text": [
      "Life is too short, you need python\n",
      "L i f e\n",
      "n o h\n",
      "n o h\n"
     ]
    }
   ],
   "source": [
    "# indexing : 문자열의 요소를 접근하는 방법, a[index]\n",
    "a = 'Life is too short, you need python'\n",
    "print(a)\n",
    "print(a[0], a[1], a[2], a[3])\n",
    "print(a[-1], a[-2], a[-3]) # -1 : 맨 마지막 요소, 뒤에서부터 인덱싱\n",
    "print(a[len(a)-1], a[len(a)-2], a[len(a)-3]) # .len()  == 자바 .length() 보통 위처럼 음수를 사용\n",
    "# a[0] = 'kn' # TypeError 불변형 데이터는 요소 수정이 불가"
   ]
  },
  {
   "cell_type": "code",
   "execution_count": 43,
   "metadata": {},
   "outputs": [
    {
     "name": "stdout",
     "output_type": "stream",
     "text": [
      "Life\n",
      "Life\n",
      "python\n",
      "Life is too short, you need python\n",
      "Life is too short, you need pytho\n",
      "Lf stosot o edpto\n",
      "nohtyp deen uoy ,trohs oot si efiL\n"
     ]
    }
   ],
   "source": [
    "# slicing : a[start:string len():step] , start <= data < end + 1\n",
    "a = 'Life is too short, you need python'\n",
    "print(a[0:4]) # Life\n",
    "print(a[:4])  # Life   시작점과 길이는 생략이 가능\n",
    "print(a[-6:]) # python 시작점과 길이는 생략이 가능\n",
    "print(a[:])   # Life is too short, you need python 처음부터 끝까지\n",
    "print(a[:-1]) # Life is too short, you need pytho  마지막 문자만 제외\n",
    "\n",
    "print(a[::2]) # 처음부터 끝까지 2개씩 건너띄며 slicing\n",
    "print(a[::-1]) # 문자열의 순서를 거꾸로 바꾼다"
   ]
  },
  {
   "cell_type": "code",
   "execution_count": 52,
   "metadata": {},
   "outputs": [
    {
     "name": "stdout",
     "output_type": "stream",
     "text": [
      "hellobye\n",
      "hellohellohello\n",
      "====================\n"
     ]
    }
   ],
   "source": [
    "# 문자열 연산\n",
    "str1 = 'hello'\n",
    "str2 = 'bye'\n",
    "\n",
    "str3 = str1 + str2\n",
    "print(str3)\n",
    "\n",
    "str3 = str1 * 3 # hellohellohello 문자열간 곱셈은 안되지만 문자열과 정수형의 곱셈은 가능\n",
    "print(str3)\n",
    "\n",
    "print('='*20)  # ============.. 문자열간 곱셈은 안되지만 문자열과 정수형의 곱셈은 가능\n"
   ]
  },
  {
   "cell_type": "code",
   "execution_count": 55,
   "metadata": {},
   "outputs": [
    {
     "name": "stdout",
     "output_type": "stream",
     "text": [
      "<class 'str'>\n",
      "I HATE RUDE PEOPLE\n",
      "i hate rude people\n"
     ]
    }
   ],
   "source": [
    "# 연산자\n",
    "a = 'I hate rude people, selfish people'\n",
    "print(type(a))\n",
    "print(a.upper())\n",
    "print(a.lower())"
   ]
  },
  {
   "cell_type": "code",
   "execution_count": 84,
   "metadata": {},
   "outputs": [
    {
     "name": "stdout",
     "output_type": "stream",
     "text": [
      "2\n",
      "12\n",
      "rude people, selfish people\n",
      "28\n",
      "-1\n",
      "28\n"
     ]
    }
   ],
   "source": [
    "a = 'I hate rude people, selfish people'\n",
    "num = a.count('people') # 'rude' 가 문자열에 몇번 포함되었는가\n",
    "print(num)\n",
    "num = a.find('people') # 'rude' 가 문자열 index 어디에 위치하는지\n",
    "print(num)\n",
    "print(a[7:])\n",
    "num = a.find('people', 13) # 검색 시작 위치를 지정\n",
    "print(num)\n",
    "num = a.find('test')\n",
    "print(num)  # 문자열이 포함되어있지 않은 경우 -1 리턴 (자바의 indexOf)\n",
    "num = a.rfind('people') # 역순으로 인덱스 검색\n",
    "print(num)"
   ]
  },
  {
   "cell_type": "code",
   "execution_count": 94,
   "metadata": {},
   "outputs": [
    {
     "name": "stdout",
     "output_type": "stream",
     "text": [
      "people\n"
     ]
    },
    {
     "data": {
      "text/plain": [
       "True"
      ]
     },
     "execution_count": 94,
     "metadata": {},
     "output_type": "execute_result"
    }
   ],
   "source": [
    "num = a.index('rude')\n",
    "print('people')\n",
    "# num = a.index('test')\n",
    "# print(num) # 문자열이 포함되어있지 않은 경우 ValueError (find 는 -1)\n",
    "a.startswith('I hate') # 자바와 동일"
   ]
  },
  {
   "cell_type": "code",
   "execution_count": null,
   "metadata": {},
   "outputs": [],
   "source": []
  }
 ],
 "metadata": {
  "kernelspec": {
   "display_name": "Python 3",
   "language": "python",
   "name": "python3"
  },
  "language_info": {
   "codemirror_mode": {
    "name": "ipython",
    "version": 3
   },
   "file_extension": ".py",
   "mimetype": "text/x-python",
   "name": "python",
   "nbconvert_exporter": "python",
   "pygments_lexer": "ipython3",
   "version": "3.7.6"
  }
 },
 "nbformat": 4,
 "nbformat_minor": 4
}
