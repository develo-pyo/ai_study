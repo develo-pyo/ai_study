{
 "cells": [
  {
   "cell_type": "markdown",
   "metadata": {},
   "source": [
    "[ 딕셔너리 실습 ]\n",
    "\n",
    "srp={'가위':'보','바위':'가위','보':'바위'}\n",
    "\n",
    "(1) srp의 key list 생성\n",
    "\n",
    "(2) srp의 value list 생성\n",
    "\n",
    "(3) srp의 key와 value 의 한쌍으로된 리스트 생성\n",
    "\n",
    "(4) srp의 key '가위'에 해당하는 value 출력\n",
    "\n",
    "(5) srp의 value '바위'에 해당하는 key 출력\n",
    "    (if문이 사용되는 list 내장,items()함수 사용)\n",
    "\n",
    "(6) srp에 '찌':'빠', '묵':'찌', '빠':'묵' 추가\n",
    "\n",
    "(7) srp에 '보자기' 라는 키가 있는지 확인\n",
    "\n",
    "(8) srp의 key 와 value를 서로 바꾸어서 새로운 사전 srp2를 생성"
   ]
  },
  {
   "cell_type": "code",
   "execution_count": 5,
   "metadata": {},
   "outputs": [
    {
     "name": "stdout",
     "output_type": "stream",
     "text": [
      "['가위', '바위', '보'] <class 'list'>\n"
     ]
    }
   ],
   "source": [
    "srp={'가위':'보','바위':'가위','보':'바위'}\n",
    "a = [k for k in srp]\n",
    "print(a, type(a))"
   ]
  },
  {
   "cell_type": "code",
   "execution_count": 9,
   "metadata": {},
   "outputs": [
    {
     "name": "stdout",
     "output_type": "stream",
     "text": [
      "['보', '가위', '바위']\n",
      "['보', '가위', '바위']\n"
     ]
    }
   ],
   "source": [
    "srp={'가위':'보','바위':'가위','보':'바위'}\n",
    "a = [srp[k] for k in srp]\n",
    "print(a)\n",
    "\n",
    "a1 = list(srp.values())\n",
    "print(a1)"
   ]
  },
  {
   "cell_type": "code",
   "execution_count": 14,
   "metadata": {},
   "outputs": [
    {
     "name": "stdout",
     "output_type": "stream",
     "text": [
      "[('가위', '보'), ('바위', '가위'), ('보', '바위')]\n",
      "[('가위', '보'), ('바위', '가위'), ('보', '바위')]\n"
     ]
    }
   ],
   "source": [
    "srp={'가위':'보','바위':'가위','보':'바위'}\n",
    "a = [(k, srp[k]) for k in srp]\n",
    "print(a)\n",
    "\n",
    "a1 = list(srp.items())\n",
    "print(a1)"
   ]
  },
  {
   "cell_type": "code",
   "execution_count": 16,
   "metadata": {},
   "outputs": [
    {
     "name": "stdout",
     "output_type": "stream",
     "text": [
      "보\n"
     ]
    }
   ],
   "source": [
    "srp={'가위':'보','바위':'가위','보':'바위'}\n",
    "print(srp['가위'])"
   ]
  },
  {
   "cell_type": "code",
   "execution_count": 28,
   "metadata": {},
   "outputs": [
    {
     "name": "stdout",
     "output_type": "stream",
     "text": [
      "보\n",
      "보\n"
     ]
    }
   ],
   "source": [
    "# 5\n",
    "srp={'가위':'보','바위':'가위','보':'바위'}\n",
    "a = [k for k,v in list(srp.items()) if v == '바위']\n",
    "print(a[0])\n",
    "\n",
    "# 5-2\n",
    "srp={'가위':'보','바위':'가위','보':'바위'}\n",
    "for k, v in list(srp.items()):\n",
    "    if v == '바위':\n",
    "        print(k)"
   ]
  },
  {
   "cell_type": "code",
   "execution_count": 32,
   "metadata": {},
   "outputs": [
    {
     "name": "stdout",
     "output_type": "stream",
     "text": [
      "{'가위': '보', '바위': '가위', '보': '바위', '찌': '빠', '묵': '찌', '빠': '묵'}\n"
     ]
    }
   ],
   "source": [
    "srp={'가위':'보','바위':'가위','보':'바위'}\n",
    "srp.update({'찌':'빠', '묵':'찌', '빠':'묵'})\n",
    "print(srp)"
   ]
  },
  {
   "cell_type": "code",
   "execution_count": 33,
   "metadata": {},
   "outputs": [
    {
     "data": {
      "text/plain": [
       "False"
      ]
     },
     "execution_count": 33,
     "metadata": {},
     "output_type": "execute_result"
    }
   ],
   "source": [
    "# 7\n",
    "'보자기' in srp"
   ]
  },
  {
   "cell_type": "code",
   "execution_count": 55,
   "metadata": {},
   "outputs": [
    {
     "name": "stdout",
     "output_type": "stream",
     "text": [
      "{'보': '가위', '가위': '바위', '바위': '보'}\n"
     ]
    }
   ],
   "source": [
    "srp = {'가위':'보','바위':'가위','보':'바위'}\n",
    "a = {v:k for k, v in srp.items()}\n",
    "print(a)"
   ]
  },
  {
   "cell_type": "code",
   "execution_count": null,
   "metadata": {},
   "outputs": [],
   "source": []
  }
 ],
 "metadata": {
  "kernelspec": {
   "display_name": "Python 3",
   "language": "python",
   "name": "python3"
  },
  "language_info": {
   "codemirror_mode": {
    "name": "ipython",
    "version": 3
   },
   "file_extension": ".py",
   "mimetype": "text/x-python",
   "name": "python",
   "nbconvert_exporter": "python",
   "pygments_lexer": "ipython3",
   "version": "3.7.6"
  }
 },
 "nbformat": 4,
 "nbformat_minor": 4
}
