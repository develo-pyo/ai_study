{
 "cells": [
  {
   "cell_type": "markdown",
   "metadata": {},
   "source": [
    "### 문자열(String)\n",
    "불변형(immutable), 시퀀스형"
   ]
  },
  {
   "cell_type": "code",
   "execution_count": 1,
   "metadata": {},
   "outputs": [
    {
     "name": "stdout",
     "output_type": "stream",
     "text": [
      "hello python\n",
      "<class 'str'>\n",
      "\n",
      "Desc :This is a test code!!\n",
      "Date : 2020-05-18\n",
      "\n",
      "this is a 'double' quotation\n"
     ]
    }
   ],
   "source": [
    "str1 = \"hello python\"\n",
    "print(str1)\n",
    "print(type(str1))\n",
    "\n",
    "str2 = 'Good Bye'\n",
    "str3 = \\\n",
    "'''\n",
    "Desc :This is a test code!!\n",
    "Date : 2020-05-18\n",
    "'''\n",
    "print(str3)\n",
    "\n",
    "str4 = \"this is a 'double' quotation\"\n",
    "print(str4)"
   ]
  },
  {
   "cell_type": "markdown",
   "metadata": {},
   "source": [
    "### 문자열 indexing 과 slicing"
   ]
  },
  {
   "cell_type": "code",
   "execution_count": 2,
   "metadata": {},
   "outputs": [
    {
     "name": "stdout",
     "output_type": "stream",
     "text": [
      "Life is too short, you need python\n",
      "L i f e\n",
      "n o h\n",
      "n o h\n"
     ]
    }
   ],
   "source": [
    "# indexing : 문자열의 요소를 접근하는 방법, a[index]\n",
    "a = 'Life is too short, you need python'\n",
    "print(a)\n",
    "print(a[0], a[1], a[2], a[3])\n",
    "print(a[-1], a[-2], a[-3]) # -1 : 맨 마지막 요소, 뒤에서부터 인덱싱\n",
    "print(a[len(a)-1], a[len(a)-2], a[len(a)-3]) # .len()  == 자바 .length() 보통 위처럼 음수를 사용\n",
    "# a[0] = 'kn' # TypeError 불변형 데이터는 요소 수정이 불가"
   ]
  },
  {
   "cell_type": "code",
   "execution_count": 3,
   "metadata": {},
   "outputs": [
    {
     "name": "stdout",
     "output_type": "stream",
     "text": [
      "Life\n",
      "Life\n",
      "python\n",
      "Life is too short, you need python\n",
      "Life is too short, you need pytho\n",
      "Lf stosot o edpto\n",
      "nohtyp deen uoy ,trohs oot si efiL\n"
     ]
    }
   ],
   "source": [
    "# slicing : a[start:string len():step] , start <= data < end + 1\n",
    "a = 'Life is too short, you need python'\n",
    "print(a[0:4]) # Life\n",
    "print(a[:4])  # Life   시작점과 길이는 생략이 가능\n",
    "print(a[-6:]) # python 시작점과 길이는 생략이 가능\n",
    "print(a[:])   # Life is too short, you need python 처음부터 끝까지\n",
    "print(a[:-1]) # Life is too short, you need pytho  마지막 문자만 제외\n",
    "\n",
    "print(a[::2]) # 처음부터 끝까지 2개씩 건너띄며 slicing\n",
    "print(a[::-1]) # 문자열의 순서를 거꾸로 바꾼다"
   ]
  },
  {
   "cell_type": "code",
   "execution_count": 4,
   "metadata": {},
   "outputs": [
    {
     "name": "stdout",
     "output_type": "stream",
     "text": [
      "hellobye\n",
      "hellohellohello\n",
      "====================\n"
     ]
    }
   ],
   "source": [
    "# 문자열 연산\n",
    "str1 = 'hello'\n",
    "str2 = 'bye'\n",
    "\n",
    "str3 = str1 + str2\n",
    "print(str3)\n",
    "\n",
    "str3 = str1 * 3 # hellohellohello 문자열간 곱셈은 안되지만 문자열과 정수형의 곱셈은 가능\n",
    "print(str3)\n",
    "\n",
    "print('='*20)  # ============.. 문자열간 곱셈은 안되지만 문자열과 정수형의 곱셈은 가능\n"
   ]
  },
  {
   "cell_type": "code",
   "execution_count": 5,
   "metadata": {},
   "outputs": [
    {
     "name": "stdout",
     "output_type": "stream",
     "text": [
      "<class 'str'>\n",
      "I HATE RUDE PEOPLE, SELFISH PEOPLE\n",
      "i hate rude people, selfish people\n"
     ]
    }
   ],
   "source": [
    "# 연산자\n",
    "a = 'I hate rude people, selfish people'\n",
    "print(type(a))\n",
    "print(a.upper())\n",
    "print(a.lower())"
   ]
  },
  {
   "cell_type": "code",
   "execution_count": 6,
   "metadata": {},
   "outputs": [
    {
     "name": "stdout",
     "output_type": "stream",
     "text": [
      "2\n",
      "12\n",
      "rude people, selfish people\n",
      "28\n",
      "-1\n",
      "28\n"
     ]
    }
   ],
   "source": [
    "a = 'I hate rude people, selfish people'\n",
    "num = a.count('people') # 'rude' 가 문자열에 몇번 포함되었는가\n",
    "print(num)\n",
    "num = a.find('people') # 'rude' 가 문자열 index 어디에 위치하는지\n",
    "print(num)\n",
    "print(a[7:])\n",
    "num = a.find('people', 13) # 검색 시작 위치를 지정\n",
    "print(num)\n",
    "num = a.find('test')\n",
    "print(num)  # 문자열이 포함되어있지 않은 경우 -1 리턴 (자바의 indexOf)\n",
    "num = a.rfind('people') # 역순으로 인덱스 검색\n",
    "print(num)"
   ]
  },
  {
   "cell_type": "code",
   "execution_count": 7,
   "metadata": {},
   "outputs": [
    {
     "name": "stdout",
     "output_type": "stream",
     "text": [
      "people\n"
     ]
    },
    {
     "data": {
      "text/plain": [
       "True"
      ]
     },
     "execution_count": 7,
     "metadata": {},
     "output_type": "execute_result"
    }
   ],
   "source": [
    "num = a.index('rude')\n",
    "print('people')\n",
    "# num = a.index('test')\n",
    "# print(num) # 문자열이 포함되어있지 않은 경우 ValueError (find 는 -1)\n",
    "a.startswith('I hate') # 자바와 동일"
   ]
  },
  {
   "cell_type": "code",
   "execution_count": 7,
   "metadata": {},
   "outputs": [
    {
     "name": "stdout",
     "output_type": "stream",
     "text": [
      " spam and ham \n",
      "spam and ham\n",
      "spam and ham \n",
      " spam and ham\n"
     ]
    }
   ],
   "source": [
    "# 제거\n",
    "a = ' spam and ham '\n",
    "print(a)\n",
    "\n",
    "s = a.strip() # 좌우 공백 제거 (자바 trim())\n",
    "print(s)\n",
    "\n",
    "s = a.lstrip() # 왼쪽 공백 제거\n",
    "print(s)\n",
    "\n",
    "s = a.rstrip() # 오른쪽 공백 제거\n",
    "print(s)"
   ]
  },
  {
   "cell_type": "code",
   "execution_count": 11,
   "metadata": {},
   "outputs": [
    {
     "name": "stdout",
     "output_type": "stream",
     "text": [
      "['spam', 'and', 'ham']\n",
      "[' spam ', ' ham ']\n"
     ]
    },
    {
     "data": {
      "text/plain": [
       "['ab', 'cd']"
      ]
     },
     "execution_count": 11,
     "metadata": {},
     "output_type": "execute_result"
    }
   ],
   "source": [
    "# 분리\n",
    "s = a.split() # 공백문자를 기준으로 문자열 분리 (자바와달리 인자값이 없을 경우 공백문자를 기준으로 split)\n",
    "print(s)\n",
    "\n",
    "s = a.split('and') # 'and' 로 분리하고 리스트로 반환\n",
    "print(s)\n",
    "\n",
    "'ab cd'.split()"
   ]
  },
  {
   "cell_type": "code",
   "execution_count": 16,
   "metadata": {},
   "outputs": [
    {
     "name": "stdout",
     "output_type": "stream",
     "text": [
      "a:b:c:d:e\n",
      "spam#and#ham\n"
     ]
    }
   ],
   "source": [
    "# 결합\n",
    "s = ':'.join('abcde')  # a:b:c:d:e\n",
    "print(s)\n",
    "s2 = '#'.join(a.split())  # spam#and#ham\n",
    "print(s2)"
   ]
  },
  {
   "cell_type": "code",
   "execution_count": 31,
   "metadata": {},
   "outputs": [
    {
     "name": "stdout",
     "output_type": "stream",
     "text": [
      " is too short\n"
     ]
    }
   ],
   "source": [
    "# 교체\n",
    "a = 'Life is too short'\n",
    "b = a.replace('Life', '')   #  is too short\n",
    "print(b)"
   ]
  },
  {
   "cell_type": "code",
   "execution_count": 28,
   "metadata": {},
   "outputs": [
    {
     "name": "stdout",
     "output_type": "stream",
     "text": [
      "{12593: 103, 12596: 110, 12599: 100, 12601: 108, 12609: 109, 12610: 98, 12613: 115, 12615: 95, 12616: 106, 12618: 99, 12619: 107, 12620: 116, 12621: 112, 12622: 104, 12623: 97, 12624: 101, 12643: 105, 12631: 111, 12636: 117} <class 'dict'>\n",
      "_aninega\n",
      "ㅇㅏㄴㅣㄴㅐㄱㅏ\n"
     ]
    }
   ],
   "source": [
    "# maketrans() / translate() 함수\n",
    "# 문자열 단순 1:1 매핑하여 변환결과를 반환\n",
    "a = 'ㄱㄴㄷㄹㅁㅂㅅㅇㅈㅊㅋㅌㅍㅎ'\n",
    "b = 'ㅏㅐㅣㅗㅜ'\n",
    "c = 'gndlmbs_jcktph'\n",
    "d = 'aeiou'\n",
    "kor = a + b\n",
    "eng = c + d\n",
    "\n",
    "transtable = ''.maketrans(kor, eng)\n",
    "print(transtable, type(transtable))\n",
    "\n",
    "result = 'ㅇㅏㄴㅣㄴㅐㄱㅏ'.translate(transtable)\n",
    "print(result) # _aninega\n",
    "\n",
    "transtable2 = ''.maketrans(eng, kor)\n",
    "result = '_aninega'.translate(transtable2)\n",
    "print(result) # ㅇㅏㄴㅣㄴㅐㄱㅏ\n",
    "\n"
   ]
  },
  {
   "cell_type": "code",
   "execution_count": null,
   "metadata": {},
   "outputs": [],
   "source": []
  }
 ],
 "metadata": {
  "kernelspec": {
   "display_name": "Python 3",
   "language": "python",
   "name": "python3"
  },
  "language_info": {
   "codemirror_mode": {
    "name": "ipython",
    "version": 3
   },
   "file_extension": ".py",
   "mimetype": "text/x-python",
   "name": "python",
   "nbconvert_exporter": "python",
   "pygments_lexer": "ipython3",
   "version": "3.7.6"
  }
 },
 "nbformat": 4,
 "nbformat_minor": 4
}
