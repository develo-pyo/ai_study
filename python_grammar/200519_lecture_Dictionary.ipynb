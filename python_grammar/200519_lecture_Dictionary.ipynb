{
 "cells": [
  {
   "cell_type": "markdown",
   "metadata": {},
   "source": [
    "### 사전(dict) \n",
    "    가변형(mutable), 순서가 없다, 연관형, 매핑형, {} : 중괄호 사용\n",
    "    {key : value, key : value, ... } : java 의 map 과 비슷\n",
    "    [] : list \n",
    "    {} : 집합 (dictionary) \n",
    "    () : tuple\n",
    "    key 는 반드시 immutable 형 이어야 한다 (숫자형, 문자열, Tuple)\n",
    "    value 는 mutable, immutable 모두 사용 가능"
   ]
  },
  {
   "cell_type": "code",
   "execution_count": 9,
   "metadata": {},
   "outputs": [
    {
     "name": "stdout",
     "output_type": "stream",
     "text": [
      "{'name': '배트맨', '나이': 30, 1: True}\n",
      "배트맨 30 True\n"
     ]
    }
   ],
   "source": [
    "a = {'name':'홍길동', '나이':30, 1:True, 'name':'배트맨'}   # 자바와 달리 key 와 value 의 자료형이 같지 않아도 된다\n",
    "print(a)\n",
    "print(a['name'], a['나이'], a[1])   # 중복시 나중에 들어온 값이 덮어씀"
   ]
  },
  {
   "cell_type": "code",
   "execution_count": 11,
   "metadata": {},
   "outputs": [
    {
     "name": "stdout",
     "output_type": "stream",
     "text": [
      "{'name': '아이언맨', '나이': 45, 1: True}\n"
     ]
    }
   ],
   "source": [
    "# 요소수정 \n",
    "a['name'] = '아이언맨'\n",
    "a['나이'] = 45\n",
    "print(a)"
   ]
  },
  {
   "cell_type": "code",
   "execution_count": 26,
   "metadata": {},
   "outputs": [
    {
     "name": "stdout",
     "output_type": "stream",
     "text": [
      "{'name': '아이언맨', '나이': 45, 1: True, '직업': '사업가', '주소': '미국', (1, 2, 3): '튜플데이터'}\n"
     ]
    }
   ],
   "source": [
    "# 요소 추가\n",
    "a['주소'] = '미국'\n",
    "a['직업'] = '사업가'\n",
    "# a[[1,2,3]] = '데이터'  # TypeError\n",
    "a[(1,2,3)] = '튜플데이터' # 튜플은 key 값으로 사용 가능\n",
    "print(a)"
   ]
  },
  {
   "cell_type": "code",
   "execution_count": 24,
   "metadata": {},
   "outputs": [
    {
     "name": "stdout",
     "output_type": "stream",
     "text": [
      "{'name': '아이언맨', '나이': 45, 1: True, '직업': '사업가', (1, 2, 3): '튜플데이터'}\n",
      "{'name': '아이언맨', '나이': 45, 1: True, '직업': '사업가'}\n"
     ]
    }
   ],
   "source": [
    "# 제거\n",
    "del a['주소']\n",
    "print(a)\n",
    "del a[(1,2,3)]\n",
    "print(a)"
   ]
  },
  {
   "cell_type": "code",
   "execution_count": 41,
   "metadata": {},
   "outputs": [
    {
     "name": "stdout",
     "output_type": "stream",
     "text": [
      "dict_keys(['name', '나이', 1, '직업', '주소', (1, 2, 3)])\n",
      "<class 'dict_keys'>\n",
      "['name', '나이', 1, '직업', '주소', (1, 2, 3)]\n",
      "dict_values(['아이언맨', 45, True, '사업가', '미국', '튜플데이터'])\n",
      "<class 'dict_values'>\n",
      "['아이언맨', 45, True, '사업가', '미국', '튜플데이터']\n",
      "dict_items([('name', '아이언맨'), ('나이', 45), (1, True), ('직업', '사업가'), ('주소', '미국'), ((1, 2, 3), '튜플데이터')])\n",
      "[('name', '아이언맨'), ('나이', 45), (1, True), ('직업', '사업가'), ('주소', '미국'), ((1, 2, 3), '튜플데이터')]\n"
     ]
    }
   ],
   "source": [
    "# 연산자\n",
    "print(a.keys())        # key 값이 dict_keys\n",
    "print(type(a.keys()))  # <class 'dict_keys'>\n",
    "print(list(a.keys()))  # dict_keys를 list로 형변환 해주어야 한다\n",
    "\n",
    "print(a.values())       # key 값이 dict_values\n",
    "print(type(a.values())) # <class 'dict_values'>\n",
    "print(list(a.values())) # dict_values를 list로 형변환 해주어야 한다\n",
    "\n",
    "print(a.items())        # key 값이 dict_items\n",
    "print(list(a.items()))  "
   ]
  },
  {
   "cell_type": "code",
   "execution_count": 46,
   "metadata": {},
   "outputs": [
    {
     "name": "stdout",
     "output_type": "stream",
     "text": [
      "아이언맨\n",
      "아이언맨\n",
      "독서\n"
     ]
    }
   ],
   "source": [
    "print(a['name'])\n",
    "print(a.get('name'))  # 동일한 결과\n",
    "\n",
    "# a['hobby']  # key 가 없으면 keyError\n",
    "ret = a.get('hobby') # key 가 없으면 None\n",
    "print(a.get('hobby', '독서'))"
   ]
  },
  {
   "cell_type": "code",
   "execution_count": 48,
   "metadata": {},
   "outputs": [
    {
     "name": "stdout",
     "output_type": "stream",
     "text": [
      "{'name': '아이언맨', '나이': 45, 1: True, '직업': '사업가', '주소': '미국', (1, 2, 3): '튜플데이터', 'gender': '남성', 'ten': 10}\n"
     ]
    }
   ],
   "source": [
    "# 추가\n",
    "d = {'gender':'남성', 'ten':10}\n",
    "a.update(d)     # 새로운 dictionary 의 요소를 추가 (중복시 덮어씀)\n",
    "print(a)"
   ]
  },
  {
   "cell_type": "code",
   "execution_count": 49,
   "metadata": {},
   "outputs": [
    {
     "name": "stdout",
     "output_type": "stream",
     "text": [
      "10\n",
      "{'name': '아이언맨', '나이': 45, 1: True, '직업': '사업가', '주소': '미국', (1, 2, 3): '튜플데이터', 'gender': '남성'}\n"
     ]
    }
   ],
   "source": [
    "# 제거\n",
    "ret = a.pop('ten')  # key 'ten' 의 value 10 반환 후 제거\n",
    "print(ret)\n",
    "print(a)"
   ]
  },
  {
   "cell_type": "code",
   "execution_count": 50,
   "metadata": {},
   "outputs": [
    {
     "data": {
      "text/plain": [
       "{}"
      ]
     },
     "execution_count": 50,
     "metadata": {},
     "output_type": "execute_result"
    }
   ],
   "source": [
    "a.clear()  # 모든 요소 제거\n",
    "a"
   ]
  },
  {
   "cell_type": "code",
   "execution_count": 51,
   "metadata": {},
   "outputs": [
    {
     "name": "stdout",
     "output_type": "stream",
     "text": [
      "{'a': 1, 'b': 1, 'd': 1, 'e': 1, 'f': 1}\n"
     ]
    }
   ],
   "source": [
    "# 사전 내장(dict comprehension)\n",
    "a = {k:1 for k in 'abcdef' if k != 'c'}  # {'a': 1, 'b': 1, 'd': 1, 'e': 1, 'f': 1}\n",
    "print(a)"
   ]
  },
  {
   "cell_type": "code",
   "execution_count": 54,
   "metadata": {},
   "outputs": [
    {
     "name": "stdout",
     "output_type": "stream",
     "text": [
      "{'name': 0, 'age': 0, 'phone': 0, 'birth': 0, 10: 0, '직업': 0}\n"
     ]
    }
   ],
   "source": [
    "b = ['name', 'age', 'phone', 'birth', 10, '직업']\n",
    "a = {k:0 for k in b} \n",
    "print(a)   # {'name': 0, 'age': 0, 'phone': 0, 'birth': 0, 10: 0, '직업': 0}"
   ]
  },
  {
   "cell_type": "code",
   "execution_count": 64,
   "metadata": {},
   "outputs": [
    {
     "name": "stdout",
     "output_type": "stream",
     "text": [
      "[('name', '김철수'), ('age', 20), ('phone', '010-1234-1234'), ('birth', '20200519'), (10, 500)]\n",
      "{'name': '김철수', 'age': 20, 'phone': '010-1234-1234', 'birth': '20200519', 10: 500}\n"
     ]
    }
   ],
   "source": [
    "a1 = ['name', 'age', 'phone', 'birth', 10]\n",
    "a2 = ['김철수', 20, '010-1234-1234', '20200519', 500]\n",
    "\n",
    "# zip() 함수\n",
    "print(list(zip(a1,a2))) # [('name', '김철수'), ('age', 20), ('phone', '010-1234-1234'), ('birth', '20200519'), (10, 500)]\n",
    "\n",
    "# 두개의 서로 다른 리스트를 사용하여 한 개의 사전을 생성\n",
    "a = {k : v for k , v in zip (a1, a2)}\n",
    "print(a)"
   ]
  },
  {
   "cell_type": "code",
   "execution_count": 59,
   "metadata": {},
   "outputs": [
    {
     "name": "stdout",
     "output_type": "stream",
     "text": [
      "0 a\n",
      "1 b\n",
      "2 c\n",
      "3 d\n",
      "4 e\n",
      "5 f\n",
      "6 g\n",
      "{'a': 0, 'b': 1, 'c': 2, 'd': 3, 'e': 4, 'f': 5, 'g': 6}\n"
     ]
    }
   ],
   "source": [
    "# enumerate() 함수 : 인덱스와 요소값을 함께 튜플로 변환\n",
    "s = 'abcdefg'\n",
    "for i,k in enumerate(s):\n",
    "    print(i,k)\n",
    "a = {k:i for i,k in enumerate(s)}\n",
    "print(a)"
   ]
  },
  {
   "cell_type": "code",
   "execution_count": null,
   "metadata": {},
   "outputs": [],
   "source": []
  }
 ],
 "metadata": {
  "kernelspec": {
   "display_name": "Python 3",
   "language": "python",
   "name": "python3"
  },
  "language_info": {
   "codemirror_mode": {
    "name": "ipython",
    "version": 3
   },
   "file_extension": ".py",
   "mimetype": "text/x-python",
   "name": "python",
   "nbconvert_exporter": "python",
   "pygments_lexer": "ipython3",
   "version": "3.7.6"
  }
 },
 "nbformat": 4,
 "nbformat_minor": 4
}
