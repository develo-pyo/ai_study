{
 "cells": [
  {
   "cell_type": "code",
   "execution_count": 1,
   "metadata": {},
   "outputs": [
    {
     "data": {
      "text/plain": [
       "'3.7.6 (default, Jan  8 2020, 20:23:39) [MSC v.1916 64 bit (AMD64)]'"
      ]
     },
     "execution_count": 1,
     "metadata": {},
     "output_type": "execute_result"
    }
   ],
   "source": [
    "import sys\n",
    "sys.version   #shift + enter "
   ]
  },
  {
   "cell_type": "code",
   "execution_count": 2,
   "metadata": {},
   "outputs": [
    {
     "data": {
      "text/plain": [
       "30"
      ]
     },
     "execution_count": 2,
     "metadata": {},
     "output_type": "execute_result"
    }
   ],
   "source": [
    "a = 10\n",
    "b = 20\n",
    "c = a + b\n",
    "c           #shift + enter"
   ]
  },
  {
   "cell_type": "markdown",
   "metadata": {},
   "source": [
    "### 단축키\n",
    "* shift + enter : 셀실행 후 다음 셀로 이동\n",
    "* alt + enter : 셀실행 후 다음에 셀을 추가\n",
    "* ctrl + '/' : 주석설정/해제\n",
    "* Tab : 들여쓰기\n",
    "* Sift + Tab : 들여쓰기 해제"
   ]
  },
  {
   "cell_type": "markdown",
   "metadata": {},
   "source": [
    "### 파이썬 자료형\n",
    "* 정수형 : int 형"
   ]
  },
  {
   "cell_type": "code",
   "execution_count": 3,
   "metadata": {},
   "outputs": [
    {
     "name": "stdout",
     "output_type": "stream",
     "text": [
      "12345\n",
      "100\n"
     ]
    },
    {
     "data": {
      "text/plain": [
       "(12345, 100, 12445)"
      ]
     },
     "execution_count": 3,
     "metadata": {},
     "output_type": "execute_result"
    }
   ],
   "source": [
    "a = 12345\n",
    "b = 100\n",
    "c = a + b\n",
    "print(a)\n",
    "print(b)\n",
    "a, b, c"
   ]
  },
  {
   "cell_type": "code",
   "execution_count": 4,
   "metadata": {},
   "outputs": [
    {
     "name": "stdout",
     "output_type": "stream",
     "text": [
      "10\n",
      "0b1010\n",
      "0xa\n",
      "0o12\n"
     ]
    },
    {
     "data": {
      "text/plain": [
       "int"
      ]
     },
     "execution_count": 4,
     "metadata": {},
     "output_type": "execute_result"
    }
   ],
   "source": [
    "a = 10\n",
    "print(int(a))\n",
    "print(bin(a))\n",
    "print(hex(a))\n",
    "print(oct(a))\n",
    "type(a) # int"
   ]
  },
  {
   "cell_type": "markdown",
   "metadata": {},
   "source": [
    "* 실수형 : float 형"
   ]
  },
  {
   "cell_type": "code",
   "execution_count": 5,
   "metadata": {},
   "outputs": [
    {
     "name": "stdout",
     "output_type": "stream",
     "text": [
      "10.12\n",
      "<class 'float'>\n",
      "10.0 <class 'float'>\n"
     ]
    }
   ],
   "source": [
    "f = 10.12\n",
    "print(f)\n",
    "print(type(f)) # <class 'float'>\n",
    "b = float(a) # 형변환\n",
    "print(b, type(b)); # 10.0 <class 'float'>"
   ]
  },
  {
   "cell_type": "markdown",
   "metadata": {},
   "source": [
    "### 객체\n",
    "* 파이썬의 모든 변수, 자료형은 객체로 관리된다 (자바의 기본자료형과 달리)"
   ]
  },
  {
   "cell_type": "code",
   "execution_count": 6,
   "metadata": {},
   "outputs": [
    {
     "name": "stdout",
     "output_type": "stream",
     "text": [
      "0x7ffd4d55a530\n",
      "0x7ffd4d55a670\n",
      "0x7ffd4d55a530\n"
     ]
    }
   ],
   "source": [
    "a = 30  # int 클래스의 인스턴스 객체의 생성 \n",
    "print(hex(id(a)))\n",
    "b = 40\n",
    "print(hex(id(b)))\n",
    "b = a\n",
    "print(hex(id(b)))\n",
    "del b  # 객체 삭제\n",
    "# print(hex(id(b))) #NameError : not defined"
   ]
  },
  {
   "cell_type": "code",
   "execution_count": 7,
   "metadata": {},
   "outputs": [
    {
     "name": "stdout",
     "output_type": "stream",
     "text": [
      "3.3333333333333335 <class 'float'>\n",
      "3\n",
      "1000\n"
     ]
    }
   ],
   "source": [
    "### 사칙 연산\n",
    "a = 10\n",
    "b = 3\n",
    "c = a+b\n",
    "c = a-b\n",
    "c = a*b\n",
    "f = a/b  # float  3.333..\n",
    "print(f, type(f))\n",
    "\n",
    "g = a % b\n",
    "f2 = a // b # 정수 나눗셈(나눈 몫이 정수)\n",
    "print(f2) # 3\n",
    "\n",
    "h = a ** b   # a^b 10^3\n",
    "print(h)"
   ]
  },
  {
   "cell_type": "markdown",
   "metadata": {},
   "source": [
    "### 표준 입출력\n",
    "1. 표준 입력 : 변수 = input()"
   ]
  },
  {
   "cell_type": "code",
   "execution_count": 8,
   "metadata": {},
   "outputs": [
    {
     "name": "stdout",
     "output_type": "stream",
     "text": [
      "test\n",
      "test\n"
     ]
    },
    {
     "data": {
      "text/plain": [
       "str"
      ]
     },
     "execution_count": 8,
     "metadata": {},
     "output_type": "execute_result"
    }
   ],
   "source": [
    "a = input() # 문자열을 반환\n",
    "print(a)\n",
    "type(a)"
   ]
  },
  {
   "cell_type": "code",
   "execution_count": 10,
   "metadata": {},
   "outputs": [
    {
     "name": "stdout",
     "output_type": "stream",
     "text": [
      "영어점수90\n",
      "수학점수100\n",
      "190\n"
     ]
    }
   ],
   "source": [
    "english = input('영어점수')\n",
    "math = input('수학점수')\n",
    "total = int(english) + int(math)\n",
    "print(total)"
   ]
  },
  {
   "cell_type": "markdown",
   "metadata": {},
   "source": [
    "2. 표준 출력 : print()"
   ]
  },
  {
   "cell_type": "code",
   "execution_count": 13,
   "metadata": {},
   "outputs": [
    {
     "name": "stdout",
     "output_type": "stream",
     "text": [
      "add:  9 sub =  2\n",
      "영어: 90 수학: 100 총점: 190\n",
      "1 2\n",
      "3 4\n"
     ]
    }
   ],
   "source": [
    "print('add: ', 4 + 5, 'sub = ', 4 - 2)\n",
    "print('영어:', int(english), '수학:', int(math), '총점:', total)\n",
    "print(1,2); print(3,4) # 마지막에 자동으로 '\\n'"
   ]
  },
  {
   "cell_type": "code",
   "execution_count": 17,
   "metadata": {},
   "outputs": [
    {
     "name": "stdout",
     "output_type": "stream",
     "text": [
      "1 2    3 4\n"
     ]
    }
   ],
   "source": [
    "print(1,2, end='    ') # 줄바꿈 대신에 space 사용\n",
    "print(3,4)"
   ]
  },
  {
   "cell_type": "code",
   "execution_count": 18,
   "metadata": {},
   "outputs": [
    {
     "name": "stdout",
     "output_type": "stream",
     "text": [
      "5,6,7\n"
     ]
    }
   ],
   "source": [
    "print(5, 6, 7, sep=',') # space 대신 ',' 출력"
   ]
  },
  {
   "cell_type": "markdown",
   "metadata": {},
   "source": [
    "## print formatting"
   ]
  },
  {
   "cell_type": "code",
   "execution_count": 22,
   "metadata": {},
   "outputs": [
    {
     "name": "stdout",
     "output_type": "stream",
     "text": [
      "int형: 10\n",
      "float형: 1.234000\n",
      "16진수: 0xa\n",
      "문자열 : Hello Python\n",
      "문자열: Hello Python int형: 10\n"
     ]
    }
   ],
   "source": [
    "num_1 = 10\n",
    "num_2 = 1.234\n",
    "str_1 = 'Hello Python'\n",
    "\n",
    "print('int형: %d'%num_1) # print('', '')가 아님\n",
    "print('float형: %f'%num_2)\n",
    "print('16진수: 0x%x'%num_1)\n",
    "print('문자열 : %s'%str_1)\n",
    "\n",
    "print('문자열: %s int형: %d'%(str_1, num_1))"
   ]
  },
  {
   "cell_type": "code",
   "execution_count": 31,
   "metadata": {},
   "outputs": [
    {
     "name": "stdout",
     "output_type": "stream",
     "text": [
      "1.234568\n",
      "7.77 apple\n",
      "apple         7.8\n",
      "     apple    7.8\n",
      "  apple       7.8\n",
      "**apple***    7.8\n"
     ]
    }
   ],
   "source": [
    "#format() 함수\n",
    "print(format(1.23456789, \"7.6f\")) #7자리 , 소숫점 6자리\n",
    "\n",
    "#추천 방법\n",
    "print('{1} {0}'.format('apple', 7.77))\n",
    "\n",
    "print('{0:<10}{1:7.1f}'.format('apple', 7.77))   # 10 자리 왼쪽으로 정렬\n",
    "print('{0:>10}{1:7.1f}'.format('apple', 7.77))   # 10 자리 오른쪽으로 정렬\n",
    "print('{0:^10}{1:7.1f}'.format('apple', 7.77))   # 10 자리 가운데로 정렬\n",
    "\n",
    "print('{0:*^10}{1:7.1f}'.format('apple', 7.77))   # 10 자리 왼쪽으로 정렬하며 빈칸을 '*'로 채운다"
   ]
  },
  {
   "cell_type": "markdown",
   "metadata": {},
   "source": [
    "### eval() 함수: 문자열로 표현된 파이썬 식(expression)을 인자로 받아 인터프리터가 번역해서 실행하도록 한다"
   ]
  },
  {
   "cell_type": "code",
   "execution_count": 33,
   "metadata": {},
   "outputs": [
    {
     "name": "stdout",
     "output_type": "stream",
     "text": [
      "a+20\n",
      "30\n"
     ]
    }
   ],
   "source": [
    "a = 10\n",
    "express = 'a' + '+' + '20'\n",
    "print(express)\n",
    "\n",
    "# b = a + 20\n",
    "b = eval('a+20')\n",
    "print(b)"
   ]
  },
  {
   "cell_type": "markdown",
   "metadata": {},
   "source": [
    "1. 속도와 거리를 입력받아 시간을 계산하여 출력하는 프로그램 (eval() 함수 사용)\n",
    "    거리/속도"
   ]
  },
  {
   "cell_type": "code",
   "execution_count": 34,
   "metadata": {},
   "outputs": [
    {
     "name": "stdout",
     "output_type": "stream",
     "text": [
      "속도:60\n",
      "거리:600\n"
     ]
    },
    {
     "data": {
      "text/plain": [
       "10.0"
      ]
     },
     "execution_count": 34,
     "metadata": {},
     "output_type": "execute_result"
    }
   ],
   "source": [
    "v = input('속도:')\n",
    "d = input('거리:')\n",
    "t = eval(d+'/'+v)\n",
    "t"
   ]
  },
  {
   "cell_type": "code",
   "execution_count": null,
   "metadata": {},
   "outputs": [],
   "source": []
  }
 ],
 "metadata": {
  "kernelspec": {
   "display_name": "Python 3",
   "language": "python",
   "name": "python3"
  },
  "language_info": {
   "codemirror_mode": {
    "name": "ipython",
    "version": 3
   },
   "file_extension": ".py",
   "mimetype": "text/x-python",
   "name": "python",
   "nbconvert_exporter": "python",
   "pygments_lexer": "ipython3",
   "version": "3.7.6"
  }
 },
 "nbformat": 4,
 "nbformat_minor": 4
}
