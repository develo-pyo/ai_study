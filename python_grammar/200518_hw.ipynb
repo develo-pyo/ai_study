{
 "cells": [
  {
   "cell_type": "markdown",
   "metadata": {},
   "source": [
    "1. 속도와 거리를 입력받아 시간을 계산하여 \n",
    "   출력하는 프로그램\n",
    "   \n",
    "        거리 / 속도"
   ]
  },
  {
   "cell_type": "code",
   "execution_count": 4,
   "metadata": {},
   "outputs": [
    {
     "name": "stdout",
     "output_type": "stream",
     "text": [
      "거리:600\n",
      "속도:60\n",
      "10.0\n"
     ]
    }
   ],
   "source": [
    "a = int(input('거리:'))\n",
    "b = int(input('속도:'))\n",
    "r = a/b;\n",
    "print(r)"
   ]
  },
  {
   "cell_type": "markdown",
   "metadata": {},
   "source": [
    "2. 길이와 너비를 입력받아 면적과 둘레를 \n",
    "   계산하여 출력하는 프로그램\n",
    "   \n",
    "         면적  = 길이 * 너비\n",
    "\t \n",
    "  \t     둘레 = 길이 * 2 + 너비 * 2"
   ]
  },
  {
   "cell_type": "code",
   "execution_count": 2,
   "metadata": {},
   "outputs": [
    {
     "name": "stdout",
     "output_type": "stream",
     "text": [
      "길이:1\n",
      "너비:2\n",
      "면적:2\n",
      "길이1\n",
      "너비2\n",
      "둘레:8\n"
     ]
    }
   ],
   "source": [
    "a = int(input('길이:'))\n",
    "b = int(input('너비:'))\n",
    "print('면적:%d'%(a*b))\n",
    "\n",
    "a1 = int(input('길이'))*2\n",
    "b1 = int(input('너비'))*2\n",
    "print('둘레:{0}'.format(a1*b1))"
   ]
  },
  {
   "cell_type": "markdown",
   "metadata": {},
   "source": [
    "3. 화씨 온도를 입력받아 섭씨 온도로 변환하는 \n",
    "프로그램\n",
    "\n",
    "        섭씨 = ( 화씨 - 32 ) / 1.8"
   ]
  },
  {
   "cell_type": "code",
   "execution_count": 17,
   "metadata": {},
   "outputs": [
    {
     "name": "stdout",
     "output_type": "stream",
     "text": [
      "화씨:100\n",
      "섭씨:37.77777777777778\n",
      "faren2100\n"
     ]
    },
    {
     "data": {
      "text/plain": [
       "37.77777777777778"
      ]
     },
     "execution_count": 17,
     "metadata": {},
     "output_type": "execute_result"
    }
   ],
   "source": [
    "a = float(input('화씨:'))\n",
    "print('섭씨:{0}'.format((a-32)/1.8))\n",
    "\n",
    "faren2 = input('faren2')\n",
    "cel ='('+ faren2 + '-' + '32'+')' +'/'+ '1.8'\n",
    "eval(cel)"
   ]
  },
  {
   "cell_type": "markdown",
   "metadata": {},
   "source": [
    "4. 두 수를 입력받아 덧셈, 뺄셈, 곱셈, 몫, 나머지\n",
    "를 출력하는 프로그램을 작성하세요"
   ]
  },
  {
   "cell_type": "code",
   "execution_count": 6,
   "metadata": {},
   "outputs": [
    {
     "name": "stdout",
     "output_type": "stream",
     "text": [
      "a:8\n",
      "b:5\n",
      "+:13\n",
      "*:40\n",
      "/:1\n",
      "%:3\n"
     ]
    }
   ],
   "source": [
    "a = int(input('a:'))\n",
    "b = int(input('b:'))\n",
    "print('+:{0}'.format(a+b))\n",
    "print('*:{0}'.format(a*b))\n",
    "print('/:{0}'.format(a//b))\n",
    "print('%:{0}'.format(a%b))"
   ]
  },
  {
   "cell_type": "code",
   "execution_count": null,
   "metadata": {},
   "outputs": [],
   "source": []
  },
  {
   "cell_type": "code",
   "execution_count": null,
   "metadata": {},
   "outputs": [],
   "source": []
  }
 ],
 "metadata": {
  "kernelspec": {
   "display_name": "Python 3",
   "language": "python",
   "name": "python3"
  },
  "language_info": {
   "codemirror_mode": {
    "name": "ipython",
    "version": 3
   },
   "file_extension": ".py",
   "mimetype": "text/x-python",
   "name": "python",
   "nbconvert_exporter": "python",
   "pygments_lexer": "ipython3",
   "version": "3.7.6"
  }
 },
 "nbformat": 4,
 "nbformat_minor": 4
}
