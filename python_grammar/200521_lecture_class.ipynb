{
 "cells": [
  {
   "cell_type": "markdown",
   "metadata": {},
   "source": [
    "## 클래스 Class\n",
    "    파이썬 클래스 관련 용어\n",
    "    1. 클래스 : class 문으로 정의하며, 멤버와 메서드를 가지는 객체. 새로운 이름 공간을 갖는 단위\n",
    "    2. 클래스 객체(class object) : 클래스와 같은 의미\n",
    "    \n",
    "    3. 클래스 인스턴스 : 클래스를 호출하여 생성된 객체\n",
    "    4. 클래스 인스턴스 객체 : 클래스 인스턴스와 같은 의미\n",
    "    \n",
    "    5. 멤버 : 클래스 혹은 클래스 인스턴스 공간에 정의 된 변수\n",
    "    6. 메서드 : 클래스 공간에 정의된 함수, def 사용\n",
    "    7. 속성 Attribute : 멤버와 메서드 전체를 가리킨다\n",
    "    \n",
    "    8. 상속 : 상위 클래스의 속성과 행동을 그대로 받아들이고 추가로 필요한 기능을 덧 붙이는 것  "
   ]
  },
  {
   "cell_type": "code",
   "execution_count": 8,
   "metadata": {},
   "outputs": [
    {
     "name": "stdout",
     "output_type": "stream",
     "text": [
      "<class '__main__.Simple'>\n",
      "<__main__.Simple object at 0x000001DF874A0348>\n",
      "<__main__.Simple object at 0x000001DF874A0D88>\n"
     ]
    }
   ],
   "source": [
    "# 파이썬\n",
    "# Class 클래스 이름\n",
    "# 클래스 생성\n",
    "class Simple:\n",
    "    pass\n",
    "\n",
    "print(Simple)\n",
    "\n",
    "# 인스턴스의 생성\n",
    "s1 = Simple()\n",
    "print(s1)\n",
    "\n",
    "s2 = Simple()\n",
    "print(s2)\n",
    "\n",
    "# 인스턴스의 삭제\n",
    "# del s1"
   ]
  },
  {
   "cell_type": "code",
   "execution_count": 14,
   "metadata": {},
   "outputs": [
    {
     "name": "stdout",
     "output_type": "stream",
     "text": [
      "100\n",
      "[1, 2, 3, 4]\n",
      "Hi\n",
      "300\n",
      "300\n",
      "500\n"
     ]
    }
   ],
   "source": [
    "# 멤버 접근 : 클래스 멤버와 인스턴스 멤버\n",
    "\n",
    "# 1. 클래스 멤버의 구현과 접근 방법\n",
    "class MyClass:\n",
    "    cl_mem = 100     # 클래스 멤버\n",
    "    cl_list = [1,2,3,4]\n",
    "    a = 'Hi'\n",
    "    \n",
    "# 클래스 객체를 통해서 접근\n",
    "print(MyClass.cl_mem)\n",
    "print(MyClass.cl_list)\n",
    "print(MyClass.a)\n",
    "\n",
    "# 변경\n",
    "MyClass.cl_mem = 300\n",
    "print(MyClass.cl_mem)\n",
    "    \n",
    "# 인스턴스 객체를 통해서 접근\n",
    "m1 = MyClass()\n",
    "print(m1.cl_mem)\n",
    "m1.cl_mem = 500\n",
    "print(m1.cl_mem)\n"
   ]
  },
  {
   "cell_type": "code",
   "execution_count": 7,
   "metadata": {},
   "outputs": [
    {
     "name": "stdout",
     "output_type": "stream",
     "text": [
      "MyClass2 생성자가 호출됨\n",
      "del is called\n",
      "[0]\n",
      "getter is called\n",
      "[0] 0\n",
      "setter is called\n",
      "70\n"
     ]
    }
   ],
   "source": [
    "# 2. 인스턴스 멤버의 구현과 접근\n",
    "# 클래스 메서드 내에 구현한 변수\n",
    "class MyClass2:\n",
    "    def __init__(self):     # 생성자 메서드, 인스턴스 객체를 생성할 때 자동으로 호출됨\n",
    "        print('MyClass2 생성자가 호출됨')\n",
    "        self.in_mem = 0\n",
    "        self.in_mem = [0]\n",
    "        self.a = 0\n",
    "    def set(self, in_mem): # 인스턴스 메서드\n",
    "        print('setter is called')\n",
    "        self.in_mem = in_mem\n",
    "    def get(self):\n",
    "        print('getter is called')\n",
    "        return self.in_mem, self.a  # 튜플\n",
    "    def __del__(self): # 소멸자 : 불필요\n",
    "        print('del is called')\n",
    "        \n",
    "        \n",
    "        \n",
    "m2 = MyClass2()    # 생성자의 self 매개변수는 m2 를 의미.\n",
    "print(m2.in_mem)\n",
    "# del m2\n",
    "in_mem, a = m2.get()  # 튜플 언패킹\n",
    "print(in_mem, a) \n",
    "\n",
    "m2.set(70)\n",
    "print(m2.in_mem)"
   ]
  },
  {
   "cell_type": "code",
   "execution_count": 20,
   "metadata": {},
   "outputs": [
    {
     "data": {
      "text/plain": [
       "3"
      ]
     },
     "execution_count": 20,
     "metadata": {},
     "output_type": "execute_result"
    }
   ],
   "source": [
    "class Calculator:\n",
    "    def __init__(self, a, b):\n",
    "        self.a = a\n",
    "        self.b = b\n",
    "    def setA(self, a):\n",
    "        self.a = a\n",
    "    def setB(self, b):\n",
    "        self.b = b\n",
    "    def add(self):\n",
    "        return self.a+self.b\n",
    "    def multiply(self):\n",
    "        return self.a*self.b\n",
    "    \n",
    "cal = Calculator(1,4)\n",
    "# cal.setA(1)\n",
    "cal.setB(2)\n",
    "cal.add()\n",
    "    \n",
    "    "
   ]
  },
  {
   "cell_type": "code",
   "execution_count": null,
   "metadata": {},
   "outputs": [],
   "source": []
  }
 ],
 "metadata": {
  "kernelspec": {
   "display_name": "Python 3",
   "language": "python",
   "name": "python3"
  },
  "language_info": {
   "codemirror_mode": {
    "name": "ipython",
    "version": 3
   },
   "file_extension": ".py",
   "mimetype": "text/x-python",
   "name": "python",
   "nbconvert_exporter": "python",
   "pygments_lexer": "ipython3",
   "version": "3.7.6"
  }
 },
 "nbformat": 4,
 "nbformat_minor": 4
}
