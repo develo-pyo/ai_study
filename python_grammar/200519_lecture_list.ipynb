{
 "cells": [
  {
   "cell_type": "markdown",
   "metadata": {},
   "source": [
    "### 리스트 list : 가변형(mutable), 시퀀스, 가장 유용한 자료형, [.], 중복허용\n",
    "\n",
    "    [] : list \n",
    "    {} : 집합 (dictionary) \n",
    "    () : tuple"
   ]
  },
  {
   "cell_type": "code",
   "execution_count": 15,
   "metadata": {},
   "outputs": [
    {
     "name": "stdout",
     "output_type": "stream",
     "text": [
      "[1, 2, 3, 4, 5]\n",
      "<class 'list'>\n",
      "['a', 1, 1.4, ['ㄱ', 'ㄴ', 'ㄷ'], 'a']\n"
     ]
    }
   ],
   "source": [
    "a = [1,2,3,4,5]\n",
    "print(a)\n",
    "print(type(a))   # <class 'list'>\n",
    "\n",
    "b = ['a', 1, 1.4, ['ㄱ', 'ㄴ', 'ㄷ'], 'a']\n",
    "print(b)       # 자바와 달리 여러 자료형이 들어갈 수 있음"
   ]
  },
  {
   "cell_type": "code",
   "execution_count": 17,
   "metadata": {},
   "outputs": [
    {
     "name": "stdout",
     "output_type": "stream",
     "text": [
      "1 2 3 5 4\n",
      "[10, 2, 3, 4, 5]\n",
      "['hi', 0, 0, 0]\n"
     ]
    }
   ],
   "source": [
    "# 인덱싱\n",
    "a = [1,2,3,4,5]\n",
    "print(a[0], a[1], a[2], a[-1], a[-2])\n",
    "\n",
    "a[0] = 10  # 가변형이므로 요소 변경 가능\n",
    "print(a)\n",
    "\n",
    "a = [0, 0, 0, 0]\n",
    "a[0] = 'hi'\n",
    "print(a)"
   ]
  },
  {
   "cell_type": "code",
   "execution_count": 36,
   "metadata": {},
   "outputs": [
    {
     "name": "stdout",
     "output_type": "stream",
     "text": [
      "[1, 2, 3, 4, 5]\n",
      "[2, 3]\n",
      "[1, 2, 3, 4]\n",
      "[5, 4, 3, 2, 1]\n",
      "[1, 1, 3, 4, 5]\n"
     ]
    }
   ],
   "source": [
    "# 슬라이싱\n",
    "a = [1,2,3,4,5]\n",
    "print(a[:])    # 처음부터 끝까지\n",
    "print(a[1:3])  # [2, 3]\n",
    "print(a[:-1])  # [1,2,3,4]\n",
    "print(a[::-1]) # 정렬을 반대로 변경\n",
    "\n",
    "a[1:2] = [1]   # a[1:2] = 1 은 TypeError\n",
    "print(a)"
   ]
  },
  {
   "cell_type": "code",
   "execution_count": 44,
   "metadata": {},
   "outputs": [
    {
     "name": "stdout",
     "output_type": "stream",
     "text": [
      "[0, 1, 2, 3, 4, 5, 6, 7, 8, 9]\n",
      "[0, 1, 2, 3, 4, 5, 6, 7, 8, 9]\n",
      "[-10, -8, -6, -4, -2, 0, 2, 4, 6, 8, 10]\n"
     ]
    }
   ],
   "source": [
    "# range(start, end + 1, step)\n",
    "print(list(range(0, 10, 1))) # range 를 list 자료형으로 변환\n",
    "print(list(range(10)))\n",
    "print(list(range(-10, 11, 2)))"
   ]
  },
  {
   "cell_type": "code",
   "execution_count": 47,
   "metadata": {},
   "outputs": [
    {
     "name": "stdout",
     "output_type": "stream",
     "text": [
      "10\n",
      "55\n",
      "1\n",
      "10\n"
     ]
    }
   ],
   "source": [
    "a = [1,2,3,4,5,6,7,8,9,10]\n",
    "print(len(a)) # 요소 갯수 : python 에선 size 대신 len 을 사용\n",
    "print(sum(a)) # 요소의 합\n",
    "print(min(a)) # 최소값\n",
    "print(max(a)) # 최대값"
   ]
  },
  {
   "cell_type": "code",
   "execution_count": 55,
   "metadata": {},
   "outputs": [
    {
     "name": "stdout",
     "output_type": "stream",
     "text": [
      "[1, 2, 3, 3, 4, 5]\n"
     ]
    }
   ],
   "source": [
    "a = [1,2,3]\n",
    "b = [3,4,5]\n",
    "c = a + b\n",
    "print(c)"
   ]
  },
  {
   "cell_type": "code",
   "execution_count": 56,
   "metadata": {},
   "outputs": [
    {
     "name": "stdout",
     "output_type": "stream",
     "text": [
      "True\n",
      "False\n",
      "[4, 5]\n"
     ]
    }
   ],
   "source": [
    "print(3 in a) # 리스트 안에 요소 존재 여부\n",
    "print(4 in a) # 리스트 안에 요소 존재 여부\n",
    "\n",
    "del b[0] # 리스트 b 의 0번째 요소 삭제\n",
    "print(b)"
   ]
  },
  {
   "cell_type": "code",
   "execution_count": 67,
   "metadata": {},
   "outputs": [
    {
     "name": "stdout",
     "output_type": "stream",
     "text": [
      "[1, 2, 3, 4, [5, 6], 0, 1, 2, 3, 4, 5, 6, 7, 8, 9]\n"
     ]
    }
   ],
   "source": [
    "# 추가\n",
    "# append(data) : data를 끝에 삽입\n",
    "a = [1,2,3]\n",
    "a.append(4)\n",
    "a.append([5,6]) # 리스트를 요소로 추가\n",
    "\n",
    "# for 문을 사용한 요소 추가\n",
    "for i in range(10):\n",
    "    a.append(i)\n",
    "print(a) "
   ]
  },
  {
   "cell_type": "code",
   "execution_count": 73,
   "metadata": {},
   "outputs": [
    {
     "name": "stdout",
     "output_type": "stream",
     "text": [
      "[1, 0, 2, 3]\n"
     ]
    }
   ],
   "source": [
    "# 추가\n",
    "# insert(index, data) : index에 data 삽입\n",
    "a = [1,2,3]\n",
    "a.insert(1, 0)\n",
    "print(a)"
   ]
  },
  {
   "cell_type": "code",
   "execution_count": 76,
   "metadata": {},
   "outputs": [
    {
     "name": "stdout",
     "output_type": "stream",
     "text": [
      "['b', 'c']\n"
     ]
    }
   ],
   "source": [
    "# 제거\n",
    "# remove(data) : data 요소를 제거\n",
    "a = ['a', 'b', 'c']\n",
    "a.remove('a');\n",
    "print(a);"
   ]
  },
  {
   "cell_type": "code",
   "execution_count": 81,
   "metadata": {},
   "outputs": [
    {
     "name": "stdout",
     "output_type": "stream",
     "text": [
      "c\n",
      "['a', 'b']\n",
      "b\n",
      "['a']\n"
     ]
    }
   ],
   "source": [
    "# 제거 \n",
    "# pop() : 마지막 요소를 반환 후 제거\n",
    "# pop(index) : index 데이터를 반환 후 제거\n",
    "a = ['a', 'b', 'c']\n",
    "print(a.pop())\n",
    "print(a)\n",
    "print(a.pop(1))\n",
    "print(a)"
   ]
  },
  {
   "cell_type": "code",
   "execution_count": 84,
   "metadata": {},
   "outputs": [
    {
     "name": "stdout",
     "output_type": "stream",
     "text": [
      "[1, 5, 2, 4, 3]\n",
      "[1, 2, 3, 4, 5]\n",
      "[5, 4, 3, 2, 1]\n"
     ]
    }
   ],
   "source": [
    "# 정렬\n",
    "a = [1,5,2,4,3]\n",
    "print(a)\n",
    "a.sort()  # 오름차순\n",
    "print(a)\n",
    "a.sort(reverse=True) # 내림차순\n",
    "print(a)"
   ]
  },
  {
   "cell_type": "code",
   "execution_count": 85,
   "metadata": {},
   "outputs": [
    {
     "name": "stdout",
     "output_type": "stream",
     "text": [
      "0\n"
     ]
    },
    {
     "data": {
      "text/plain": [
       "False"
      ]
     },
     "execution_count": 85,
     "metadata": {},
     "output_type": "execute_result"
    }
   ],
   "source": [
    "print(a.index(5))\n",
    "6 in a"
   ]
  },
  {
   "cell_type": "code",
   "execution_count": 87,
   "metadata": {},
   "outputs": [
    {
     "name": "stdout",
     "output_type": "stream",
     "text": [
      "[5, 4, 3, 2, 1]\n"
     ]
    },
    {
     "data": {
      "text/plain": [
       "[1, 2, 3, 4, 5]"
      ]
     },
     "execution_count": 87,
     "metadata": {},
     "output_type": "execute_result"
    }
   ],
   "source": [
    "print(a)\n",
    "a.reverse() # 반대로 정렬\n",
    "a"
   ]
  },
  {
   "cell_type": "code",
   "execution_count": 91,
   "metadata": {},
   "outputs": [
    {
     "data": {
      "text/plain": [
       "[1, 2, 3, 4, 5, 6]"
      ]
     },
     "execution_count": 91,
     "metadata": {},
     "output_type": "execute_result"
    }
   ],
   "source": [
    "a = [1,2,3]\n",
    "b = [4,5,6]\n",
    "# a.append(b)  # [1, 2, 3, [4, 5, 6]]\n",
    "a.extend(b)    # [1, 2, 3, 4, 5, 6]\n",
    "a"
   ]
  },
  {
   "cell_type": "code",
   "execution_count": 100,
   "metadata": {},
   "outputs": [
    {
     "name": "stdout",
     "output_type": "stream",
     "text": [
      "hello\n",
      "h\n"
     ]
    }
   ],
   "source": [
    "# 중첩(Nested) 리스트 : 리스트안에 또 다른 리스트가 포함됨\n",
    "a = [1,2,3,4,[5,6,7, \"hello\"]]\n",
    "print(a[4][-1])  # hello\n",
    "print(a[4][-1][0]) # h"
   ]
  },
  {
   "cell_type": "code",
   "execution_count": 118,
   "metadata": {},
   "outputs": [
    {
     "name": "stdout",
     "output_type": "stream",
     "text": [
      "0\n",
      "2\n",
      "4\n",
      "6\n",
      "8\n",
      "10\n",
      "24\n",
      "[6, 8, 10]\n"
     ]
    }
   ],
   "source": [
    "# for 문, if문 사용\n",
    "# from 0 to 10 짝수의 합\n",
    "# sum(list(range(0,11,2)))\n",
    "\n",
    "total = 0\n",
    "a = []\n",
    "for k in range(0,11,2):\n",
    "    print(k)\n",
    "    if k > 4:\n",
    "        a.append(k)\n",
    "        total += k # total = total + k\n",
    "print(total)\n",
    "print(a)"
   ]
  },
  {
   "cell_type": "code",
   "execution_count": 121,
   "metadata": {},
   "outputs": [
    {
     "name": "stdout",
     "output_type": "stream",
     "text": [
      "[0, 2, 4, 6, 8, 10]\n",
      "[0, 1, 2, 3, 4, 5, 6, 7, 8, 9]\n",
      "[0, 1, 2, 3, 4, 5, 6, 7, 8, 9]\n",
      "[5, 6, 7, 8, 9]\n"
     ]
    }
   ],
   "source": [
    "# 리스트 내장 (List Comprehension) : 파이썬 스타일(pythonic), 필수 암기해야할 표현\n",
    "a = [k for k in range(0, 11, 2)]\n",
    "print(a)\n",
    "\n",
    "b = [k for k in range(10)]\n",
    "print(b)"
   ]
  },
  {
   "cell_type": "code",
   "execution_count": 122,
   "metadata": {},
   "outputs": [
    {
     "name": "stdout",
     "output_type": "stream",
     "text": [
      "[0, 1, 2, 3, 4, 5, 6, 7, 8, 9]\n",
      "[5, 6, 7, 8, 9]\n"
     ]
    }
   ],
   "source": [
    "a = list(range(10))\n",
    "print(a)\n",
    "b = [k for k in a if k > 4]  # 조건식이 포함된 리스트\n",
    "print(b)"
   ]
  },
  {
   "cell_type": "code",
   "execution_count": 126,
   "metadata": {},
   "outputs": [
    {
     "data": {
      "text/plain": [
       "[0, 3, 6, 9]"
      ]
     },
     "execution_count": 126,
     "metadata": {},
     "output_type": "execute_result"
    }
   ],
   "source": [
    "c = [k for k in a if k%3 == 0] # 3의 배수로만 리스트 생성\n",
    "c"
   ]
  },
  {
   "cell_type": "code",
   "execution_count": 125,
   "metadata": {},
   "outputs": [
    {
     "data": {
      "text/plain": [
       "[1, 2, 4, 5, 7, 8]"
      ]
     },
     "execution_count": 125,
     "metadata": {},
     "output_type": "execute_result"
    }
   ],
   "source": [
    "c = [k for k in a if k%3 != 0] # 3의 배수가 아닌 수로만 리스트 생성\n",
    "c"
   ]
  },
  {
   "cell_type": "code",
   "execution_count": 128,
   "metadata": {},
   "outputs": [
    {
     "data": {
      "text/plain": [
       "[6, 9]"
      ]
     },
     "execution_count": 128,
     "metadata": {},
     "output_type": "execute_result"
    }
   ],
   "source": [
    "c = [k for k in a if (k%3 == 0) and (k > 4)] # 3의 배수이고 4보다 큰수로 리스트 생성\n",
    "c"
   ]
  },
  {
   "cell_type": "code",
   "execution_count": null,
   "metadata": {},
   "outputs": [],
   "source": []
  }
 ],
 "metadata": {
  "kernelspec": {
   "display_name": "Python 3",
   "language": "python",
   "name": "python3"
  },
  "language_info": {
   "codemirror_mode": {
    "name": "ipython",
    "version": 3
   },
   "file_extension": ".py",
   "mimetype": "text/x-python",
   "name": "python",
   "nbconvert_exporter": "python",
   "pygments_lexer": "ipython3",
   "version": "3.7.6"
  }
 },
 "nbformat": 4,
 "nbformat_minor": 4
}
