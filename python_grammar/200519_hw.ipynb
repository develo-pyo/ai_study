{
 "cells": [
  {
   "cell_type": "markdown",
   "metadata": {},
   "source": [
    "1. s = 'hong gil dong201912121623210' 을 다음과 같이 출력하시오\n",
    "\t\n",
    "\t    Name : hong gil dong\n",
    "\t    Birthday : 2019/12/12\n",
    "\t    ID Number : 20191212-1623210\n",
    "\t\n",
    "2. s = 'PythonProgramming' 내용을 문자열 슬라이싱과 문자열 \n",
    "       연결하기를 이용하여   'ProgrammingPython' 으로 변경하여 출력하시오.\n",
    "   \n",
    "3. s = 'hello world'의 내용을 'hi world'로 변경하여 출력하시오."
   ]
  },
  {
   "cell_type": "code",
   "execution_count": 29,
   "metadata": {},
   "outputs": [
    {
     "name": "stdout",
     "output_type": "stream",
     "text": [
      "Name : hong gil dong\n",
      "Birthday : 2019/12/12\n",
      "ID Number : 20191212-1623210\n"
     ]
    }
   ],
   "source": [
    "s = 'hong gil dong201912121623210'\n",
    "print('Name : %s'%(s[:13]))\n",
    "print('Birthday : %s'%(s[13:17]),s[17:19],s[19:21],sep='/')\n",
    "print('ID Number : %s'%s[13:21],s[21:],sep='-')"
   ]
  },
  {
   "cell_type": "code",
   "execution_count": 32,
   "metadata": {},
   "outputs": [
    {
     "name": "stdout",
     "output_type": "stream",
     "text": [
      "Python\n",
      "Programming\n",
      "ProgrammingPython\n"
     ]
    }
   ],
   "source": [
    "s = 'PythonProgramming'\n",
    "front = s[:6]\n",
    "back = s[6:]\n",
    "print(front)\n",
    "print(back)\n",
    "print(back+front)"
   ]
  },
  {
   "cell_type": "code",
   "execution_count": 25,
   "metadata": {},
   "outputs": [
    {
     "name": "stdout",
     "output_type": "stream",
     "text": [
      "hi world\n"
     ]
    }
   ],
   "source": [
    "s = 'hello world'\n",
    "print(s.replace('hello', 'hi'))"
   ]
  },
  {
   "cell_type": "markdown",
   "metadata": {},
   "source": [
    "[ list 실습과제 ]\n",
    "\n",
    "1. 리스트에 '+', '-', '*', '/'를 저장해 놓고 정수 2개를 입력 받고 계산 방식은\n",
    "   정수로 입력받아 해당 연산을 수행하는 프로그램을 작성하시오(eval()함수를 사용하세요)\n",
    "   \n",
    "   (계산방식은 1이면 '+', 2이면 '-', 3이면 '*', 4이면 '/')\n",
    "   \n",
    "        <힌트> op_select = int(input('Input operator( 1:+, 2:-, 3:*, 4:/ ) : '))\n",
    "\n",
    "2. 1 ~ n까지 합을 출력하는 프로그램을  리스트를 이용하여 작성하시오.\n",
    "    (range(),sum()함수를 사용하세요, 최대값 n을 input()함수로 입력 받아 사용하세요)\n",
    "\t\n",
    "        <힌트>  >>>mylist = [0,1,2,3,4,5,6,7,8,9,10]\n",
    "                >>>sum(mylist)\n",
    "                     55\n",
    "\t\t   \n",
    "3. 1 ~ n까지 짝수합과 홀수합을 출력하는 프로그램을 리스트를 이용하여 작성하시오.\n",
    "    (최대값 n을 input()함수로 입력 받아 사용하세요)\n",
    "\n",
    "4. 1 ~ n까지 3의 배수와 5의 배수를 제외한 수를 출력하고 그 합을 출력하는 \n",
    "프로그램을 작성하시오. (최대값 n을 input()함수로 입력 받아 사용하세요)"
   ]
  },
  {
   "cell_type": "code",
   "execution_count": 53,
   "metadata": {},
   "outputs": [
    {
     "name": "stdout",
     "output_type": "stream",
     "text": [
      "수1?4\n",
      "수2?4\n",
      "연산자? 1:+, 2:-, 3:*, 4:/4\n",
      "1.0\n"
     ]
    }
   ],
   "source": [
    "a = [0,'+', '-', '*', '/']\n",
    "n1=input('수1?')\n",
    "n2=input('수2?')\n",
    "i = int(input('연산자? 1:+, 2:-, 3:*, 4:/'))\n",
    "r = eval(n1 + a[i] + n2)\n",
    "print(r)"
   ]
  },
  {
   "cell_type": "code",
   "execution_count": 42,
   "metadata": {},
   "outputs": [
    {
     "name": "stdout",
     "output_type": "stream",
     "text": [
      "10\n",
      "[0, 1, 2, 3, 4, 5, 6, 7, 8, 9, 10]\n"
     ]
    },
    {
     "data": {
      "text/plain": [
       "55"
      ]
     },
     "execution_count": 42,
     "metadata": {},
     "output_type": "execute_result"
    }
   ],
   "source": [
    "i = int(input())+1\n",
    "list = [k for k in range(i)]\n",
    "print(list)\n",
    "sum(list)"
   ]
  },
  {
   "cell_type": "code",
   "execution_count": 45,
   "metadata": {},
   "outputs": [
    {
     "name": "stdout",
     "output_type": "stream",
     "text": [
      "10\n",
      "[0, 2, 4, 6, 8, 10]\n",
      "30\n",
      "[1, 3, 5, 7, 9]\n",
      "25\n"
     ]
    }
   ],
   "source": [
    "i = int(input())+1\n",
    "list = [k for k in range(i) if k%2 == 0]\n",
    "print(list)\n",
    "print(sum(list))\n",
    "\n",
    "list2 = [k for k in range(i) if k%2 != 0]\n",
    "print(list2)\n",
    "print(sum(list2))"
   ]
  },
  {
   "cell_type": "code",
   "execution_count": 54,
   "metadata": {},
   "outputs": [
    {
     "name": "stdout",
     "output_type": "stream",
     "text": [
      "10\n",
      "[1, 2, 4, 7, 8]\n",
      "22\n"
     ]
    }
   ],
   "source": [
    "i = int(input())+1\n",
    "list = [k for k in range(i) if (k%3 != 0) and (k%5 != 0)]\n",
    "print(list)\n",
    "print(sum(list))"
   ]
  },
  {
   "cell_type": "code",
   "execution_count": null,
   "metadata": {},
   "outputs": [],
   "source": []
  }
 ],
 "metadata": {
  "kernelspec": {
   "display_name": "Python 3",
   "language": "python",
   "name": "python3"
  },
  "language_info": {
   "codemirror_mode": {
    "name": "ipython",
    "version": 3
   },
   "file_extension": ".py",
   "mimetype": "text/x-python",
   "name": "python",
   "nbconvert_exporter": "python",
   "pygments_lexer": "ipython3",
   "version": "3.7.6"
  }
 },
 "nbformat": 4,
 "nbformat_minor": 4
}
