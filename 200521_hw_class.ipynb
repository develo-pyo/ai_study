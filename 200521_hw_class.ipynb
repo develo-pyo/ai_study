{
 "cells": [
  {
   "cell_type": "markdown",
   "metadata": {},
   "source": [
    "[클래스 기초 실습 문제] \n",
    "- 클래스 작성과 인스턴스 멤버/ 메서드 구현 및 호출 연습\n",
    "\n",
    "1. Car class를 만들고 다음 멤버와 메서드를 구현하고 \n",
    "   호출하는 코드를 구현해보세요\n",
    "   클래스의 인스턴스 객체  sonata 를 만든다\n",
    "   클래스의 모든 메서드를 호출해서 동작을 확인해본다\n",
    "\n",
    " <인스턴스 멤버>\n",
    " car_name : 자동차의 차종, 초기값은 '소나타'\n",
    " car_drv : 자동차의 구동 방식, 초기값은 '전륜'\n",
    "            ('전륜', '후륜', '4륜'의 3가지)\n",
    " car_speed : 자동차의 속도, 초기 값은 0으로 설정\n",
    " car_direction : 자동차의 방향, 초기 값은 '앞쪽'으로 설정\n",
    "                   ('왼쪽','오른쪽','앞쪽','뒤쪽','정지')\n",
    " car_fuel : 자동차의 연료, 초기 값은 '휘발유'\n",
    "                   ('휘발유','경유','LPG','수소','전기','하이브리드')\n",
    " car_state : 자동차의 상태, 초기 값은 '정상' \n",
    "               ('정상', '브레이크고장', '전조등고장', '후미등고장', '연료부족',\n",
    "                '타이어펑크', '엔진오일부족', '냉각수부족', '폐차요망')\n",
    "\n",
    " <메서드>\n",
    " __init__( )   : 생성자 함수 , 인스턴스 객체를 생성할 때 호출됨, \n",
    "                 '생성자 호출'  메시지가 출력 되도록한다\n",
    "                 인스턴스 멤버 변수들의 초기화 값을 설정해준다\n",
    "\n",
    " set_car_name('산타페') : \"차종이 [ 산타페 ]로 변경 되었습니다\" , \n",
    "                               car_name 값을 변경\n",
    " get_car_name() : 설정된 차종(car_name) 을 반환\n",
    "\n",
    " set_car_drv('4륜') : \"차의 구동 방식이 [ 4륜 ]으로 변경 되었습니다\" \n",
    "                          car_drv 값을 변경\n",
    " get_car_drv() : 설정된 구동방식(car_drv) 을 반환\n",
    "\n",
    " set_car_fuel('전기') : \"차의 연료 방식이 [ 전기 ]로 변경 되었습니다\" \n",
    "                          car_fuel 값을 변경\n",
    " get_car_fuel() : 설정된 연료 방식(car_fuel) 을 반환\n",
    "\n",
    " set_car_state('브레이크고장') : \"차의 상태가 [ 브레이크고장 ]으로 변경 되었습니다\" \n",
    "                          car_state 값을 변경\n",
    " get_car_state() : 설정된 차의 상태(car_state) 를 반환\n",
    "\n",
    " set_speed(100)  : \" 자동차의 속력이 시속 [ 100 ] km 로 변경되었습니다\", \n",
    "                      car_speed 값을 변경\n",
    " get_speed()  : 설정된 자동차의 속도(car_speed )를 반환\n",
    "\n",
    " turn('오른쪽')   : \" 자동차의 방향이  [ 오른쪽 ]으로 변경되었습니다\"\n",
    "\t          car_direction의  값을 변경\n",
    "\n",
    " stop() :   \"자동차가 정지 하였습니다\"  \n",
    "         car_direction의  값을 변경\n",
    "\tcar_direction의  값을 [ 정지 ]로 변경\n",
    " \n",
    " start() :  \"자동차가 시동이 걸렸습니다\"\n",
    "\n",
    " move_forward(): \"자동차가 [ 전진 ]합니다 속도는 [ 100 ]km입니다\"\n",
    "           속도값은 car_speed를 사용, car_direction의  값을  '앞쪽'으로 변경 \n",
    " move_backward() :\"자동차가 [ 후진 ]합니다 속도는 [ 100 ] km 입니다\"\n",
    "           속도값은 car_speed를 사용, car_direction의  값을  '뒤쪽'으로 변경 \n",
    "\n",
    " __del__( )   : \"[ 산타페 ] 자동차가 제거되었습니다\"\n",
    "                   소멸자 함수이며  car_name을 출력하고 \n",
    "                   인스턴스 객체가 삭제될 때 자동으로 호출된다   \n"
   ]
  },
  {
   "cell_type": "code",
   "execution_count": 17,
   "metadata": {},
   "outputs": [
    {
     "name": "stdout",
     "output_type": "stream",
     "text": [
      "생성자 호출\n",
      "소나타\n",
      "차종이 산타페 로 변경되었습니다\n",
      "산타페\n"
     ]
    }
   ],
   "source": [
    "class Car:\n",
    "    car_name = None\n",
    "    def __init__(self):\n",
    "        print('생성자 호출')\n",
    "        self.car_name = '소나타'\n",
    "    def set_car_name(self, cn):\n",
    "        print('차종이 %s 로 변경되었습니다'%cn)\n",
    "        self.car_name=cn\n",
    "    def get_car_name(self):\n",
    "        return self.car_name\n",
    "\n",
    "    \n",
    "car = Car()\n",
    "print(car.get_car_name())\n",
    "car.set_car_name('산타페')\n",
    "print(car.get_car_name())"
   ]
  },
  {
   "cell_type": "code",
   "execution_count": null,
   "metadata": {},
   "outputs": [],
   "source": []
  }
 ],
 "metadata": {
  "kernelspec": {
   "display_name": "Python 3",
   "language": "python",
   "name": "python3"
  },
  "language_info": {
   "codemirror_mode": {
    "name": "ipython",
    "version": 3
   },
   "file_extension": ".py",
   "mimetype": "text/x-python",
   "name": "python",
   "nbconvert_exporter": "python",
   "pygments_lexer": "ipython3",
   "version": "3.7.6"
  }
 },
 "nbformat": 4,
 "nbformat_minor": 4
}
