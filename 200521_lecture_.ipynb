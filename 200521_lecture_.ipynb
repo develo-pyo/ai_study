{
 "cells": [
  {
   "cell_type": "code",
   "execution_count": 1,
   "metadata": {},
   "outputs": [
    {
     "name": "stdout",
     "output_type": "stream",
     "text": [
      "f_1 is called!\n",
      "None\n"
     ]
    }
   ],
   "source": [
    "# 함수 유형 4가지\n",
    "# 1. 반환값이 없고 인자값도 없는 경우\n",
    "def f_1():\n",
    "    print(\"f_1 is called!\")\n",
    "\n",
    "ret = f_1()  # None\n",
    "print(ret)"
   ]
  },
  {
   "cell_type": "code",
   "execution_count": 9,
   "metadata": {},
   "outputs": [
    {
     "name": "stdout",
     "output_type": "stream",
     "text": [
      "a+b=3\n",
      "None\n"
     ]
    }
   ],
   "source": [
    "# 2. 반환값이 없고 인자는 있는 경우\n",
    "def f_2(a, b):\n",
    "    print(\"a+b=%d\"%(a+b))\n",
    "\n",
    "ret = f_2(1,2)    # None\n",
    "print(ret)"
   ]
  },
  {
   "cell_type": "code",
   "execution_count": 10,
   "metadata": {},
   "outputs": [
    {
     "name": "stdout",
     "output_type": "stream",
     "text": [
      "('v1', 'v2', 100, [1, 2, 3])\n",
      "<class 'tuple'>\n",
      "v1 v2 100\n"
     ]
    }
   ],
   "source": [
    "# 3. 반환값이 있고 인자는 없는 경우\n",
    "def f_3():\n",
    "    return 'v1', 'v2', 100, [1,2,3]\n",
    "ret = f_3()\n",
    "print(ret)\n",
    "print(type(ret))\n",
    "a,b,c,_ = f_3()  # tuple unpacking\n",
    "print(a,b,c)"
   ]
  },
  {
   "cell_type": "code",
   "execution_count": 11,
   "metadata": {},
   "outputs": [
    {
     "name": "stdout",
     "output_type": "stream",
     "text": [
      "f_4 is called!\n",
      "(8, 0, 16, 1.0)\n"
     ]
    }
   ],
   "source": [
    "# 4. 반환값이 있고 인자도 있는 경우\n",
    "def f_4(a, b):\n",
    "    print(\"f_4 is called!\")\n",
    "    return a+b, a-b, a*b, a/b\n",
    "ret = f_4(4,4)\n",
    "print(ret)"
   ]
  },
  {
   "cell_type": "code",
   "execution_count": 18,
   "metadata": {},
   "outputs": [
    {
     "name": "stdout",
     "output_type": "stream",
     "text": [
      "(5, 3)\n",
      "3\n",
      "95.0\n"
     ]
    }
   ],
   "source": [
    "# 문제 1 : 두개의 정수형 인자를 주면 큰수 작은수 순서로 반환하는 함수 order() 를 구현\n",
    "def prob1(a, b):\n",
    "    if(a>b):\n",
    "        return a,b\n",
    "    return b,a\n",
    "print(prob1(3, 5))\n",
    "    \n",
    "# 문제 2 : 두개의 정수형 인자를 주면 큰 수를 반환하는 함수 구현\n",
    "def max(a, b):\n",
    "    if(a>b):\n",
    "        return a\n",
    "    return b\n",
    "print(max(1,3))\n",
    "\n",
    "# 문제 3 : 정수요소를 갖는 리스트를 주면 리스트의 평균을 반환하는 함수 mean 구현\n",
    "def mean(a):\n",
    "    return sum(a)/len(a)\n",
    "print(mean([90,100,95]))"
   ]
  },
  {
   "cell_type": "code",
   "execution_count": 19,
   "metadata": {},
   "outputs": [],
   "source": [
    "# globals() # 파이썬의 전역 심볼 테이블을 얻는 함수"
   ]
  },
  {
   "cell_type": "code",
   "execution_count": 20,
   "metadata": {},
   "outputs": [
    {
     "name": "stdout",
     "output_type": "stream",
     "text": [
      "(1, 1, 1) <class 'tuple'>\n",
      "6\n"
     ]
    }
   ],
   "source": [
    "# 인자가 고정되지 않은 함수 처리 방법\n",
    "# (1) * 인자 : tuple 방식\n",
    "def add_many(a,b,*args):\n",
    "    total = a + b\n",
    "    print(args, type(args))\n",
    "    for k in args:\n",
    "        total += k\n",
    "    return total\n",
    "print(add_many(1,2,1,1,1))"
   ]
  },
  {
   "cell_type": "code",
   "execution_count": 27,
   "metadata": {},
   "outputs": [
    {
     "name": "stdout",
     "output_type": "stream",
     "text": [
      "90 45\n",
      "{'depth': 60} <class 'dict'>\n",
      "90 45\n",
      "{'depth': 60} <class 'dict'>\n"
     ]
    }
   ],
   "source": [
    "# (2) ** 인자 : dict 형식, 키워드 인수\n",
    "def func(width, height, **kw):\n",
    "    print(width, height)\n",
    "    print(kw, type(kw))\n",
    "\n",
    "func(90, height=45, depth=60)\n",
    "func(height=45, width=90, depth=60)"
   ]
  },
  {
   "cell_type": "code",
   "execution_count": 35,
   "metadata": {},
   "outputs": [
    {
     "name": "stdout",
     "output_type": "stream",
     "text": [
      "None 30 000-0000-0000 True\n",
      "lee 31 000-0000-0000 True\n",
      "None 30 010-1234-1234 True\n"
     ]
    }
   ],
   "source": [
    "# 기본 인수, default 인수\n",
    "def show_info(name = None, age=30, phone='000-0000-0000', emp=True):\n",
    "    print(name, age, phone, emp)\n",
    "\n",
    "show_info()\n",
    "show_info('lee', '31')\n",
    "show_info(phone='010-1234-1234')"
   ]
  },
  {
   "cell_type": "code",
   "execution_count": 50,
   "metadata": {},
   "outputs": [
    {
     "name": "stdout",
     "output_type": "stream",
     "text": [
      "foo: 20\n",
      "bar: 20\n",
      "10\n"
     ]
    }
   ],
   "source": [
    "# 함수 사용시 변수의 유효 범위 규칙 (Scope Rule)\n",
    "# Local 변수\n",
    "# Grobal 변수\n",
    "# LEGB 규칙(변수 우선순위) : Local > Enclosing Function Local > Global > Built-in\n",
    "\n",
    "x = 10   # Grobal\n",
    "y = 11\n",
    "def foo():\n",
    "    x = 20   # Local\n",
    "    foo_list = [1,2,3]\n",
    "    print('foo:', x)\n",
    "    def bar():\n",
    "        print('bar:',x)\n",
    "    bar()\n",
    "foo()\n",
    "\n",
    "def test():\n",
    "    print(x)\n",
    "test()\n",
    "\n"
   ]
  },
  {
   "cell_type": "markdown",
   "metadata": {},
   "source": [
    "### 일급함수 : 함수를 변수처럼 사용 가능\n",
    "    1. 함수객체를 다른 함수의 인자로 사용 가능\n",
    "    2. 함수객체를 리턴 값으로 사용 가능\n",
    "    3. 함수객체를 다른 자료 구조에 저장 및 사용 가능"
   ]
  },
  {
   "cell_type": "code",
   "execution_count": 52,
   "metadata": {},
   "outputs": [
    {
     "name": "stdout",
     "output_type": "stream",
     "text": [
      "func_two is called!\n",
      "add_two is called!\n"
     ]
    },
    {
     "data": {
      "text/plain": [
       "30"
      ]
     },
     "execution_count": 52,
     "metadata": {},
     "output_type": "execute_result"
    }
   ],
   "source": [
    "# 함수객체를 다른 함수의 인자로 사용\n",
    "def add_two(a, b):\n",
    "    print('add_two is called!')\n",
    "    return a+b\n",
    "def func_two(func, a, b):\n",
    "    print('func_two is called!')\n",
    "    result = func(a, b)\n",
    "    return result\n",
    "func_two(add_two, 10, 20)"
   ]
  },
  {
   "cell_type": "code",
   "execution_count": 59,
   "metadata": {},
   "outputs": [
    {
     "name": "stdout",
     "output_type": "stream",
     "text": [
      "foo2 is called!!\n",
      "bar2 is called!!\n",
      "<class 'function'>\n"
     ]
    }
   ],
   "source": [
    "# 함수 객체를 리턴\n",
    "def foo2():\n",
    "    print('foo2 is called!!')\n",
    "    def bar2():\n",
    "        print('bar2 is called!!')\n",
    "    return bar2\n",
    "ret = foo2()\n",
    "ret()\n",
    "print(type(ret))  # <class 'function'>"
   ]
  },
  {
   "cell_type": "code",
   "execution_count": 60,
   "metadata": {},
   "outputs": [
    {
     "data": {
      "text/plain": [
       "3"
      ]
     },
     "execution_count": 60,
     "metadata": {},
     "output_type": "execute_result"
    }
   ],
   "source": [
    "# 함수 객체를 자료 구조에서 사용\n",
    "# List\n",
    "def add(a,b):\n",
    "    c=a+b\n",
    "    return c\n",
    "\n",
    "def multiply(a,b):\n",
    "    c=a*b\n",
    "    return c\n",
    "\n",
    "func_list = [add, multiply]\n",
    "func_list[0](1,2)"
   ]
  },
  {
   "cell_type": "code",
   "execution_count": 63,
   "metadata": {},
   "outputs": [
    {
     "name": "stdout",
     "output_type": "stream",
     "text": [
      "3\n",
      "6\n"
     ]
    }
   ],
   "source": [
    "# dict 사용\n",
    "func_dict = {'addFunc':add, 'multiplyFunc':multiply}\n",
    "print(func_dict['addFunc'](1,2))\n",
    "print(func_dict['multiplyFunc'](2,3))"
   ]
  },
  {
   "cell_type": "markdown",
   "metadata": {},
   "source": [
    "## 람다\n",
    "    함수명 = lambda 인수1, 인수2, ..: 반환식"
   ]
  },
  {
   "cell_type": "code",
   "execution_count": 69,
   "metadata": {},
   "outputs": [
    {
     "name": "stdout",
     "output_type": "stream",
     "text": [
      "30\n",
      "30\n"
     ]
    }
   ],
   "source": [
    "def add(a,b):\n",
    "    return a+b\n",
    "print(add(10,20))\n",
    "add_new = lambda a,b : a+b\n",
    "print(add_new(10,20))"
   ]
  },
  {
   "cell_type": "code",
   "execution_count": 72,
   "metadata": {},
   "outputs": [
    {
     "name": "stdout",
     "output_type": "stream",
     "text": [
      "[2, 5, 10, 17]\n",
      "[2, 5, 10, 17]\n"
     ]
    }
   ],
   "source": [
    "def f1(x):\n",
    "    return x*x + 1\n",
    "\n",
    "def f2(x):\n",
    "    return 2*x + 1\n",
    "\n",
    "# print([f1(1), f1(2), f1(3), f1(4)])\n",
    "def g(func):\n",
    "    return [func(x) for x in range(1,5)]\n",
    "\n",
    "\n",
    "print(g(f1))\n",
    "print(g(lambda x:x*x+1))"
   ]
  },
  {
   "cell_type": "markdown",
   "metadata": {},
   "source": [
    "## 파이썬 내장 함수\n",
    ": map()/max()/min()/sum()/round()/id()/hex()/zip() 등"
   ]
  },
  {
   "cell_type": "code",
   "execution_count": 74,
   "metadata": {},
   "outputs": [
    {
     "name": "stdout",
     "output_type": "stream",
     "text": [
      "[2, 4, 6, 8, 10]\n"
     ]
    }
   ],
   "source": [
    "# map() 함수\n",
    "def multi_two(x):\n",
    "    return x*2\n",
    "\n",
    "ret = map(multi_two, [1,2,3,4,5])\n",
    "print(list(ret))"
   ]
  },
  {
   "cell_type": "code",
   "execution_count": 75,
   "metadata": {},
   "outputs": [
    {
     "name": "stdout",
     "output_type": "stream",
     "text": [
      "10\n",
      "a\n",
      "97\n",
      "4.123\n"
     ]
    }
   ],
   "source": [
    "print(abs(-10)) # 절대값\n",
    "print(chr(97))  # 아스키코드를 문자로 반환\n",
    "print(ord('a')) # 문자를 아스키코드로\n",
    "print(round(4.1234, 3)) #반올림"
   ]
  },
  {
   "cell_type": "code",
   "execution_count": 76,
   "metadata": {},
   "outputs": [
    {
     "name": "stdout",
     "output_type": "stream",
     "text": [
      "[2, 4, 6, 8, 10]\n"
     ]
    }
   ],
   "source": [
    "ret = map(lambda x : x*2, [1,2,3,4,5])\n",
    "print(list(ret))"
   ]
  },
  {
   "cell_type": "code",
   "execution_count": null,
   "metadata": {},
   "outputs": [],
   "source": []
  }
 ],
 "metadata": {
  "kernelspec": {
   "display_name": "Python 3",
   "language": "python",
   "name": "python3"
  },
  "language_info": {
   "codemirror_mode": {
    "name": "ipython",
    "version": 3
   },
   "file_extension": ".py",
   "mimetype": "text/x-python",
   "name": "python",
   "nbconvert_exporter": "python",
   "pygments_lexer": "ipython3",
   "version": "3.7.6"
  }
 },
 "nbformat": 4,
 "nbformat_minor": 4
}
