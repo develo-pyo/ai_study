{
 "cells": [
  {
   "cell_type": "markdown",
   "metadata": {},
   "source": [
    "< pandas 기본실습> \n",
    "\n",
    "boston_train.zip 파일을 다운 받아 압축을 풀고\n",
    "파이썬 소스 디렉토리에 복사해놓는다\n",
    "\n",
    "1. pandas로 boston_train.csv 파일을  읽어서\n",
    "\n",
    "  1.1 속성 출력: shape,index,values\n",
    "\n",
    "  1.2 행(row)으로 접근\n",
    "\n",
    "  1.3 열(column)로 접근\n",
    "\n",
    "  1.4 열의 이름을 직접 사용하여 열을 추출하여 Series 객체 생성\n",
    "\n",
    "  1.5 열의 번호를 사용하여 열을 추출하여 Series 객체 생성\n",
    "\n",
    "  1.6 열의 이름을 직접 사용하여 여러개 열을 추출하여\n",
    "      DataFrame 객체 생성  \n",
    " \n",
    "  1.7 열의 번호를 사용하여 여러개 열을 추출하여\n",
    "      DataFrame 객체 생성  \n",
    "\n",
    "  1.8 df.iloc[행,열]를 사용하여 스칼라 값(원소) 값을 접근하고 수정(중요,3개)\n",
    "  \n",
    "  1.9 수정된 DataFrame을 새로운 csv 파일로 저장"
   ]
  },
  {
   "cell_type": "code",
   "execution_count": 95,
   "metadata": {},
   "outputs": [
    {
     "name": "stdout",
     "output_type": "stream",
     "text": [
      "       CRIM   ZN  INDUS\n",
      "0   2.30040  0.0  19.58\n",
      "1  13.35980  0.0  18.10\n",
      "2   0.12744  0.0   6.91\n",
      "         CRIM    ZN    INDUS    NOX     RM   AGE     DIS  TAX  PTRATIO  MEDV\n",
      "0     2.30040   0.0   1.1111  0.605  6.319  96.1  2.1000  403     14.7  23.8\n",
      "1    13.35980   0.0  18.1000  0.693  5.887  94.7  1.7821  666     20.2  12.7\n",
      "2     0.12744   0.0   6.9100  0.448  6.770   2.9  5.7209  233     17.9  26.6\n",
      "3     0.15876   0.0  10.8100  0.413  5.961  17.5  5.2873  305     19.2  21.7\n",
      "4     0.03768  80.0   1.5200  0.404  7.274  38.3  7.3090  329     12.6  34.6\n",
      "..        ...   ...      ...    ...    ...   ...     ...  ...      ...   ...\n",
      "395   0.23912   0.0   9.6900  0.585  6.019  65.3  2.4091  391     19.2  21.2\n",
      "396   0.04560   0.0  13.8900  0.550  5.888  56.0  3.1121  276     16.4  23.3\n",
      "397   1.38799   0.0   8.1400  0.538  5.950  82.0  3.9900  307     21.0  13.2\n",
      "398   7.36711   0.0  18.1000  0.679  6.193  78.1  1.9356  666     20.2  11.0\n",
      "399   0.14150   0.0   6.9100  0.448  6.169   6.6  5.7209  233     17.9  25.3\n",
      "\n",
      "[400 rows x 10 columns]\n"
     ]
    }
   ],
   "source": [
    "import pandas as pd\n",
    "import numpy as np\n",
    "\n",
    "file = pd.read_csv('boston_train.csv')\n",
    "# print(file)\n",
    "\n",
    "# 1\n",
    "# print(file.shape, file.index, file.values)\n",
    "\n",
    "# 2 행으로 접근\n",
    "# print(file[:])\n",
    "\n",
    "# 3 열로 접근\n",
    "# print(file[file.columns[:]][::])\n",
    "\n",
    "# 4 열의 이름을 직접 사용 및 열 추출하여 series 객체 생성\n",
    "# file['CRIM']\n",
    "\n",
    "# 5 열의 번호를 사용하여 열을 추출\n",
    "# file[file.columns[0]]\n",
    "\n",
    "# 6 열의 이름을 직접 사용하여 여러개 열을 추출하여 DataFrame 객체 생성\n",
    "# pd.DataFrame({'CRIM':file['CRIM'], 'INDUS':file['INDUS']})\n",
    "\n",
    "# 7 열의 번호를 사용하여 여러개 열을 추출하여 DataFrame 생성 ????\n",
    "# print(file[[file.columns[0], file.columns[1]]])\n",
    "print(file.iloc[:3, [0,1,2]])\n",
    "\n",
    "# 8 df.iloc[행,열]를 사용하여 스칼라 값(원소) 값을 접근하고 수정(중요,3개)\n",
    "file.iloc[0,2]=1.1111\n",
    "print(file)\n",
    "\n",
    "# 9 수정된 DataFrame을 새로운 csv 파일로 저장\n",
    "file.to_csv('changed_file.csv', index=False)"
   ]
  },
  {
   "cell_type": "code",
   "execution_count": null,
   "metadata": {},
   "outputs": [],
   "source": []
  }
 ],
 "metadata": {
  "kernelspec": {
   "display_name": "Python 3",
   "language": "python",
   "name": "python3"
  },
  "language_info": {
   "codemirror_mode": {
    "name": "ipython",
    "version": 3
   },
   "file_extension": ".py",
   "mimetype": "text/x-python",
   "name": "python",
   "nbconvert_exporter": "python",
   "pygments_lexer": "ipython3",
   "version": "3.7.6"
  }
 },
 "nbformat": 4,
 "nbformat_minor": 4
}
