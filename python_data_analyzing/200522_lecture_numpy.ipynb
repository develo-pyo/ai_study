{
 "cells": [
  {
   "cell_type": "markdown",
   "metadata": {},
   "source": [
    "## 넘파이 NumPy\n",
    "    https://numpy.org/doc/1.18/\n",
    "    1) 리스트(list) : \n",
    "    Linked List 구조(불연속), 동작 속도가 느리다. comma로 요소 구별, 서로 다른 자료형을 포함 할 수 있음\n",
    "    2) 배열 (ndarray, n dimension array) : \n",
    "    연속된 메모리 구조, 동작 속도가 빠르다. comma 사용하지 않고 공백으로 요소 구별, 같은 자료형만 포함 할 수 있음\n",
    "    "
   ]
  },
  {
   "cell_type": "code",
   "execution_count": 1,
   "metadata": {},
   "outputs": [
    {
     "name": "stdout",
     "output_type": "stream",
     "text": [
      "[0, 1, 2, 3, 4, 5, 'hello']\n",
      "<class 'list'>\n",
      "[0 1 2 3 4 5]\n",
      "<class 'numpy.ndarray'>\n",
      "int32\n"
     ]
    }
   ],
   "source": [
    "import numpy as np\n",
    "#pip install numpy\n",
    "\n",
    "# list\n",
    "list1 = [0,1,2,3,4,5,'hello']\n",
    "print(list1)\n",
    "print(type(list1))\n",
    "\n",
    "a = np.array([0,1,2,3,4,5])  # [0 1 2 3 4 5]  : comma 가 없다\n",
    "print(a)\n",
    "print(type(a))    # ndarray\n",
    "print(a.dtype)    # 요소 data type(자료형)\n",
    "\n",
    "# Shift + Tab : 속성(메서드, 멤버변수) 리턴에 대한 정보가 나옴  eclipse IDE 의 mouse over 와 같음\n",
    "\n"
   ]
  },
  {
   "cell_type": "code",
   "execution_count": 2,
   "metadata": {},
   "outputs": [
    {
     "data": {
      "text/plain": [
       "dict_items([('?', <class 'numpy.bool_'>), (0, <class 'numpy.bool_'>), ('byte', <class 'numpy.int8'>), ('b', <class 'numpy.int8'>), (1, <class 'numpy.int8'>), ('ubyte', <class 'numpy.uint8'>), ('B', <class 'numpy.uint8'>), (2, <class 'numpy.uint8'>), ('short', <class 'numpy.int16'>), ('h', <class 'numpy.int16'>), (3, <class 'numpy.int16'>), ('ushort', <class 'numpy.uint16'>), ('H', <class 'numpy.uint16'>), (4, <class 'numpy.uint16'>), ('i', <class 'numpy.intc'>), (5, <class 'numpy.intc'>), ('uint', <class 'numpy.uint32'>), ('I', <class 'numpy.uintc'>), (6, <class 'numpy.uintc'>), ('intp', <class 'numpy.int64'>), ('p', <class 'numpy.int64'>), (9, <class 'numpy.int64'>), ('uintp', <class 'numpy.uint64'>), ('P', <class 'numpy.uint64'>), (10, <class 'numpy.uint64'>), ('long', <class 'numpy.int32'>), ('l', <class 'numpy.int32'>), (7, <class 'numpy.int32'>), ('L', <class 'numpy.uint32'>), (8, <class 'numpy.uint32'>), ('longlong', <class 'numpy.int64'>), ('q', <class 'numpy.int64'>), ('ulonglong', <class 'numpy.uint64'>), ('Q', <class 'numpy.uint64'>), ('half', <class 'numpy.float16'>), ('e', <class 'numpy.float16'>), (23, <class 'numpy.float16'>), ('f', <class 'numpy.float32'>), (11, <class 'numpy.float32'>), ('double', <class 'numpy.float64'>), ('d', <class 'numpy.float64'>), (12, <class 'numpy.float64'>), ('longdouble', <class 'numpy.longdouble'>), ('g', <class 'numpy.longdouble'>), (13, <class 'numpy.longdouble'>), ('cfloat', <class 'numpy.complex128'>), ('F', <class 'numpy.complex64'>), (14, <class 'numpy.complex64'>), ('cdouble', <class 'numpy.complex128'>), ('D', <class 'numpy.complex128'>), (15, <class 'numpy.complex128'>), ('clongdouble', <class 'numpy.clongdouble'>), ('G', <class 'numpy.clongdouble'>), (16, <class 'numpy.clongdouble'>), ('O', <class 'numpy.object_'>), (17, <class 'numpy.object_'>), ('S', <class 'numpy.bytes_'>), (18, <class 'numpy.bytes_'>), ('unicode', <class 'numpy.str_'>), ('U', <class 'numpy.str_'>), (19, <class 'numpy.str_'>), ('void', <class 'numpy.void'>), ('V', <class 'numpy.void'>), (20, <class 'numpy.void'>), ('M', <class 'numpy.datetime64'>), (21, <class 'numpy.datetime64'>), ('m', <class 'numpy.timedelta64'>), (22, <class 'numpy.timedelta64'>), ('bool8', <class 'numpy.bool_'>), ('Bool', <class 'numpy.bool_'>), ('b1', <class 'numpy.bool_'>), ('int64', <class 'numpy.int64'>), ('Int64', <class 'numpy.int64'>), ('i8', <class 'numpy.int64'>), ('uint64', <class 'numpy.uint64'>), ('Uint64', <class 'numpy.uint64'>), ('u8', <class 'numpy.uint64'>), ('float16', <class 'numpy.float16'>), ('Float16', <class 'numpy.float16'>), ('f2', <class 'numpy.float16'>), ('float32', <class 'numpy.float32'>), ('Float32', <class 'numpy.float32'>), ('f4', <class 'numpy.float32'>), ('float64', <class 'numpy.float64'>), ('Float64', <class 'numpy.float64'>), ('f8', <class 'numpy.float64'>), ('complex64', <class 'numpy.complex64'>), ('Complex32', <class 'numpy.complex64'>), ('c8', <class 'numpy.complex64'>), ('complex128', <class 'numpy.complex128'>), ('Complex64', <class 'numpy.complex128'>), ('c16', <class 'numpy.complex128'>), ('object0', <class 'numpy.object_'>), ('Object0', <class 'numpy.object_'>), ('bytes0', <class 'numpy.bytes_'>), ('Bytes0', <class 'numpy.bytes_'>), ('str0', <class 'numpy.str_'>), ('Str0', <class 'numpy.str_'>), ('void0', <class 'numpy.void'>), ('Void0', <class 'numpy.void'>), ('datetime64', <class 'numpy.datetime64'>), ('Datetime64', <class 'numpy.datetime64'>), ('M8', <class 'numpy.datetime64'>), ('timedelta64', <class 'numpy.timedelta64'>), ('Timedelta64', <class 'numpy.timedelta64'>), ('m8', <class 'numpy.timedelta64'>), ('int32', <class 'numpy.int32'>), ('Int32', <class 'numpy.int32'>), ('i4', <class 'numpy.int32'>), ('uint32', <class 'numpy.uint32'>), ('UInt32', <class 'numpy.uint32'>), ('u4', <class 'numpy.uint32'>), ('UInt64', <class 'numpy.uint64'>), ('int16', <class 'numpy.int16'>), ('Int16', <class 'numpy.int16'>), ('i2', <class 'numpy.int16'>), ('uint16', <class 'numpy.uint16'>), ('UInt16', <class 'numpy.uint16'>), ('u2', <class 'numpy.uint16'>), ('int8', <class 'numpy.int8'>), ('Int8', <class 'numpy.int8'>), ('i1', <class 'numpy.int8'>), ('uint8', <class 'numpy.uint8'>), ('UInt8', <class 'numpy.uint8'>), ('u1', <class 'numpy.uint8'>), ('complex_', <class 'numpy.complex128'>), ('int0', <class 'numpy.int64'>), ('uint0', <class 'numpy.uint64'>), ('single', <class 'numpy.float32'>), ('csingle', <class 'numpy.complex64'>), ('singlecomplex', <class 'numpy.complex64'>), ('float_', <class 'numpy.float64'>), ('intc', <class 'numpy.intc'>), ('uintc', <class 'numpy.uintc'>), ('int_', <class 'numpy.int32'>), ('longfloat', <class 'numpy.longdouble'>), ('clongfloat', <class 'numpy.clongdouble'>), ('longcomplex', <class 'numpy.clongdouble'>), ('bool_', <class 'numpy.bool_'>), ('bytes_', <class 'numpy.bytes_'>), ('string_', <class 'numpy.bytes_'>), ('unicode_', <class 'numpy.str_'>), ('object_', <class 'numpy.object_'>), ('str_', <class 'numpy.str_'>), ('int', <class 'numpy.int32'>), ('float', <class 'numpy.float64'>), ('complex', <class 'numpy.complex128'>), ('bool', <class 'numpy.bool_'>), ('object', <class 'numpy.object_'>), ('str', <class 'numpy.str_'>), ('bytes', <class 'numpy.bytes_'>), ('a', <class 'numpy.bytes_'>)])"
      ]
     },
     "execution_count": 2,
     "metadata": {},
     "output_type": "execute_result"
    }
   ],
   "source": [
    "np.sctypeDict.items()   # np 에서 사용되는 자료형"
   ]
  },
  {
   "cell_type": "code",
   "execution_count": 3,
   "metadata": {},
   "outputs": [
    {
     "name": "stdout",
     "output_type": "stream",
     "text": [
      "[0. 1. 2. 3. 4. 5.]\n",
      "<class 'numpy.ndarray'>\n",
      "float64\n"
     ]
    }
   ],
   "source": [
    "a = np.array([0,1,2.,3,4,5])\n",
    "print(a)\n",
    "print(type(a))\n",
    "print(a.dtype)   # float64"
   ]
  },
  {
   "cell_type": "code",
   "execution_count": 4,
   "metadata": {},
   "outputs": [
    {
     "name": "stdout",
     "output_type": "stream",
     "text": [
      "['0' '1' '2.0' '3' '4' '5' 'Hello']\n",
      "<class 'numpy.ndarray'>\n",
      "<U32\n"
     ]
    }
   ],
   "source": [
    "a = np.array([0,1,2.,3,4,5,'Hello'])\n",
    "print(a)\n",
    "print(type(a))\n",
    "print(a.dtype)   # <U32\n",
    "# <U32 , < : 리틀엔디언, U유니코드 , 32 : 최대문자 32 byte\n",
    "\n",
    "# 유니코드 인코딩 방식\n",
    "# (1) EUC-KR, CP949(MS949) : 완성형, 한글 2 바이트 영문 1 바이트  Windows\n",
    "# (2) UTF-8 : 조합형, 한글 3 바이트, 영문 1 바이트  Linux"
   ]
  },
  {
   "cell_type": "code",
   "execution_count": 5,
   "metadata": {},
   "outputs": [
    {
     "name": "stdout",
     "output_type": "stream",
     "text": [
      "['1.234' '3.123' '4.4356' '5' '7'] <U6\n",
      "[1.234  3.123  4.4356 5.     7.    ] float32\n",
      "[1 3 4 5 7] int32\n"
     ]
    }
   ],
   "source": [
    "# 배열의 데이터 타입 변환 : astype()\n",
    "a1 = np.array(['1.234', '3.123', '4.4356', '5', '7'])\n",
    "print(a1, a1.dtype)  # <U6  : 리틀엔디언, 유니코드, 최대 문자 6byte\n",
    "\n",
    "a2 = a1.astype('float32')\n",
    "print(a2, a2.dtype)   # float32\n",
    "\n",
    "a3 = a2.astype('int32')\n",
    "print(a3, a3.dtype)   # int32"
   ]
  },
  {
   "cell_type": "markdown",
   "metadata": {},
   "source": [
    "### 차원(dimension, Rank) 과 Shape\n",
    "     * 차원(Dimension, Rank) : 1,2,3 차원, n차원, 첫 데이터까지의 대괄호의 갯수\n",
    "     * Shape : 차원 요소의 수, 튜플 형식\n",
    "     1차원 Shape : (x, )\n",
    "     2차원 Shape : (x, y)  , 행렬(matrix)\n",
    "     3차원 Shape : (x, y, z) , (면,행,열)\n",
    "     n차원 Shape : (x, y, z,....)"
   ]
  },
  {
   "cell_type": "code",
   "execution_count": 6,
   "metadata": {},
   "outputs": [
    {
     "name": "stdout",
     "output_type": "stream",
     "text": [
      "[ 0  1  2  3  4  5  6  7  8  9 10 11] <class 'numpy.ndarray'>\n",
      "(12,)\n",
      "<class 'tuple'>\n",
      "12\n",
      "[2 3 4 5 6 7 8 9]\n",
      "(8,)\n",
      "[ 0  2  4  6  8 10 12 14] <class 'numpy.ndarray'>\n",
      "(8,)\n"
     ]
    }
   ],
   "source": [
    "# 1차원의 배열의 Shape\n",
    "# arange(start, end+1, step)\n",
    "a = np.arange(12)\n",
    "print(a, type(a))\n",
    "print(a.shape)     # (12,)\n",
    "t = a.shape\n",
    "print(type(t))\n",
    "print(a.shape[0])\n",
    "\n",
    "a2 = np.arange(2, 10)\n",
    "print(a2)\n",
    "print(a2.shape)\n",
    "\n",
    "a3 = np.arange(0,16,2)\n",
    "print(a3, type(a3))\n",
    "print(a3.shape)"
   ]
  },
  {
   "cell_type": "code",
   "execution_count": 7,
   "metadata": {},
   "outputs": [
    {
     "name": "stdout",
     "output_type": "stream",
     "text": [
      "[[0 1 2]\n",
      " [0 1 2]]\n",
      "(2, 3)\n",
      "2 3\n"
     ]
    }
   ],
   "source": [
    "# 2차원 배열의 Shape : 행(row, 수직, axis = 0) 과 열(column, 수평, axis = 1) ==> 필수적으로 암기해야할 내용. 매우 중요!\n",
    "m = np.array([np.arange(3), np.arange(3)])  # 왼쪽과 같음 m = np.array([[0,1,2], [0,1,2]])   # [[0 1 2] [0 1 2]]\n",
    "print(m)\n",
    "print(m.shape)   # (2, 3)   행 2개 열 3개\n",
    "print(m.shape[0], m.shape[1])"
   ]
  },
  {
   "cell_type": "code",
   "execution_count": 8,
   "metadata": {},
   "outputs": [
    {
     "name": "stdout",
     "output_type": "stream",
     "text": [
      "[[[1 2 3]\n",
      "  [1 2 3]\n",
      "  [1 2 3]]\n",
      "\n",
      " [[1 2 3]\n",
      "  [1 2 3]\n",
      "  [1 2 3]]]\n",
      "(2, 3, 3)\n",
      "2 3 3\n"
     ]
    }
   ],
   "source": [
    "# 3차원 배열의 Shape : (면, 행, 열)\n",
    "m = np.array([[[1, 2, 3], [1, 2, 3], [1, 2, 3]], [[1, 2, 3], [1, 2, 3], [1, 2, 3]]])\n",
    "print(m)\n",
    "print(m.shape)\n",
    "print(m.shape[0], m.shape[1], m.shape[2])"
   ]
  },
  {
   "cell_type": "markdown",
   "metadata": {},
   "source": [
    "### 배열의 shape 바꾸기 : reshape() 함수"
   ]
  },
  {
   "cell_type": "code",
   "execution_count": 9,
   "metadata": {},
   "outputs": [
    {
     "name": "stdout",
     "output_type": "stream",
     "text": [
      "[ 0  1  2  3  4  5  6  7  8  9 10 11]\n",
      "(12,)\n",
      "[[ 0  1  2  3]\n",
      " [ 4  5  6  7]\n",
      " [ 8  9 10 11]]\n",
      "(3, 4)\n",
      "[[ 0  1  2  3  4  5]\n",
      " [ 6  7  8  9 10 11]]\n",
      "(2, 6)\n",
      "[[[ 0  1  2]\n",
      "  [ 3  4  5]]\n",
      "\n",
      " [[ 6  7  8]\n",
      "  [ 9 10 11]]]\n",
      "(2, 2, 3)\n",
      "[[[[ 0  1]]\n",
      "\n",
      "  [[ 2  3]]]\n",
      "\n",
      "\n",
      " [[[ 4  5]]\n",
      "\n",
      "  [[ 6  7]]]\n",
      "\n",
      "\n",
      " [[[ 8  9]]\n",
      "\n",
      "  [[10 11]]]]\n",
      "(3, 2, 1, 2)\n"
     ]
    }
   ],
   "source": [
    "m1 = np.arange(12)\n",
    "print(m1)\n",
    "print(m1.shape)  # (12,)\n",
    "\n",
    "m2 = m1.reshape(3,4)  # 행 3개 열 4개의 2차원 Shape 으로 바꾼다\n",
    "print(m2)\n",
    "print(m2.shape)\n",
    "\n",
    "m2 = m1.reshape(2,6)  # 행 2개 열 6개의 2차원 Shape 으로 바꾼다\n",
    "print(m2)\n",
    "print(m2.shape)\n",
    "\n",
    "m3 = m1.reshape(2,2,3)\n",
    "print(m3)\n",
    "print(m3.shape)\n",
    "\n",
    "m4 = m1.reshape(3,2,1,2)\n",
    "print(m4)\n",
    "print(m4.shape)"
   ]
  },
  {
   "cell_type": "code",
   "execution_count": 11,
   "metadata": {},
   "outputs": [
    {
     "name": "stdout",
     "output_type": "stream",
     "text": [
      "[ 0  1  2  3  4  5  6  7  8  9 10 11] (12,)\n",
      "[[ 0  1  2]\n",
      " [ 3  4  5]\n",
      " [ 6  7  8]\n",
      " [ 9 10 11]] (4, 3)\n"
     ]
    }
   ],
   "source": [
    "# -1 을 사용한 reshape\n",
    "m1 = np.arange(12)\n",
    "print(m1, m1.shape)\n",
    "\n",
    "m2 = m.reshape(-1,6)    # m의 기존 shape 에 따라 -1 부분을 알아서 계산(m1.shape / 6)하여 넣어주게 된다\n",
    "\n",
    "m2 = m1.reshape(4,-1)   # 열의 요소 수를 자동으로 계산\n",
    "print(m2, m2.shape)\n",
    "\n",
    "m2 = m1.reshape(-1, 1)\n",
    "print(m2, m2.shape)    # (12, 1)"
   ]
  },
  {
   "cell_type": "markdown",
   "metadata": {},
   "source": [
    "### 배열의 인덱싱과 슬라이싱"
   ]
  },
  {
   "cell_type": "code",
   "execution_count": 23,
   "metadata": {},
   "outputs": [
    {
     "name": "stdout",
     "output_type": "stream",
     "text": [
      "[ 0  1  2  3  4  5  6  7  8  9 10 11] (12,)\n",
      "0 1 2\n",
      "[2 3 4 5 6 7]\n",
      "[ 0  1  2  3  4  5  6  7  8  9 10 11]\n",
      "[11 10  9  8  7  6  5  4  3  2  1  0]\n",
      "[10  1  2  3  4  5  6  7  8  9 10 11]\n"
     ]
    }
   ],
   "source": [
    "# 1 차원 배열의 인덱싱과 슬라이싱 : list 와 동일한 방법\n",
    "d = np.arange(12)\n",
    "print(d, d.shape)\n",
    "print(d[0],d[1],d[2])\n",
    "print(d[2:8])\n",
    "print(d[:])\n",
    "print(d[::-1])\n",
    "\n",
    "d[0] = 10\n",
    "print(d)"
   ]
  },
  {
   "cell_type": "code",
   "execution_count": 43,
   "metadata": {},
   "outputs": [
    {
     "name": "stdout",
     "output_type": "stream",
     "text": [
      "[[ 0  1  2  3]\n",
      " [ 4  5  6  7]\n",
      " [ 8  9 10 11]] (3, 4)\n",
      "0\n",
      "0\n",
      "9\n",
      "[0 1 2 3]\n",
      "[0 1 2 3]\n",
      "[[ 0  1  2]\n",
      " [ 4  5  6]\n",
      " [ 8  9 10]]\n",
      "[[ 0  2]\n",
      " [ 8 10]]\n",
      "[[20 20 20 20]\n",
      " [ 4  5  6  7]\n",
      " [ 8  9 10 11]]\n"
     ]
    }
   ],
   "source": [
    "# 2차원 배열의 인덱싱과 슬라이싱\n",
    "# data[행, 열]\n",
    "d = np.arange(12).reshape(3,-1)   # .reshape(3, 4) 와 같다\n",
    "print(d, d.shape)\n",
    "\n",
    "# 인덱싱 (전통적인 언어에서의 인덱싱 방법)\n",
    "print(d[0][0])  # 0\n",
    "\n",
    "# 파이썬에서의 인덱싱\n",
    "print(d[0, 0])  # 0   위와 같다.\n",
    "print(d[2, 1])  # 9\n",
    "\n",
    "\n",
    "# 슬라이싱\n",
    "print(d[0])      # [0 1 2 3]\n",
    "print(d[0,:])    # [0 1 2 3]\n",
    "\n",
    "print(d[:,:-1])  # (3,3), 마지막 열을 제외\n",
    "print(d[::2,::2])\n",
    "\n",
    "d[0] = 20  # 모든 배열의 요소를 20 으로 바꾼다\n",
    "print(d)   # [[20, 20, 20, 20], ...]\n",
    "\n"
   ]
  },
  {
   "cell_type": "markdown",
   "metadata": {},
   "source": [
    "### 불린 인덱싱 : 조건식을 사용한 인덱싱, 조건 검색 필터를 사용한 추출 ==> 매우 중요\n",
    "    broadcasting : 1 대 다 제어"
   ]
  },
  {
   "cell_type": "code",
   "execution_count": 58,
   "metadata": {},
   "outputs": [
    {
     "name": "stdout",
     "output_type": "stream",
     "text": [
      "[1 2 3 4 5 6]\n",
      "[False False  True  True  True  True]\n",
      "[3 4 5 6]\n",
      "[3 4 5 6]\n",
      "[1 3 5 6]\n",
      "[1 2 4 5 6]\n",
      "[3 4 5]\n",
      "[1 2 3]\n"
     ]
    }
   ],
   "source": [
    "a = np.array([1,2,3,4,5,6])\n",
    "print(a)\n",
    "print(a > 2)  # [False False  True  True  True  True]\n",
    "print(a[a>2]) # [3 4 5 6]  : 배열 a 엣서 2보다 큰 요소들을 추출\n",
    "index = a > 2\n",
    "\n",
    "print(a[[False, False, True, True, True, True]])   # [3 4 5 6]\n",
    "\n",
    "boolean_index = np.array([True, False, True, False, True, True])  # 리스트를 그대로 사용해도 가능\n",
    "print(a[boolean_index])\n",
    "\n",
    "print(a[a != 3])\n",
    "print(a[(a>2)&(a<6)])\n",
    "print(a[a<a.mean()])  # mean : 평균"
   ]
  },
  {
   "cell_type": "code",
   "execution_count": 59,
   "metadata": {},
   "outputs": [],
   "source": [
    "# 배열의 형상 다루기 : reshape()\n"
   ]
  },
  {
   "cell_type": "code",
   "execution_count": null,
   "metadata": {},
   "outputs": [],
   "source": []
  }
 ],
 "metadata": {
  "kernelspec": {
   "display_name": "Python 3",
   "language": "python",
   "name": "python3"
  },
  "language_info": {
   "codemirror_mode": {
    "name": "ipython",
    "version": 3
   },
   "file_extension": ".py",
   "mimetype": "text/x-python",
   "name": "python",
   "nbconvert_exporter": "python",
   "pygments_lexer": "ipython3",
   "version": "3.7.6"
  }
 },
 "nbformat": 4,
 "nbformat_minor": 4
}
