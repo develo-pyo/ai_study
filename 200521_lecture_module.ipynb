{
 "cells": [
  {
   "cell_type": "markdown",
   "metadata": {},
   "source": [
    "## 모듈\n",
    "    : 함수나 변수 또는 클래스를 모아놓은 소스 파일"
   ]
  },
  {
   "cell_type": "code",
   "execution_count": 9,
   "metadata": {},
   "outputs": [],
   "source": [
    "# 모듈. 본 파일을 calculator.py 파일로 저장\n",
    "# __name__ 은 현재 소스의 name 을 의미?하며 __main__ 이 출력됨.\n",
    "# 모듈의 __name__ 을 출력할 경우 모듈의 이름 (xxx.py)이 출력됨.\n",
    "# 모듈을 모듈내에서 실행시킬 경우 __name__은 __main__을 출력함\n",
    "\n",
    "# def add(a,b):\n",
    "#     c = a + b\n",
    "#     return c\n",
    "# def multiply(a,b):\n",
    "#     c = a * b\n",
    "#     return c\n",
    "\n",
    "# if __name__ == '__main__':\n",
    "#     ret = add(10, 20)\n",
    "#     print(ret)\n",
    "    \n",
    "#     ret = multiply(10, 20)\n",
    "#     print(ret)"
   ]
  },
  {
   "cell_type": "code",
   "execution_count": 1,
   "metadata": {},
   "outputs": [
    {
     "name": "stdout",
     "output_type": "stream",
     "text": [
      "calculator\n",
      "30\n",
      "200\n"
     ]
    }
   ],
   "source": [
    "import calculator as cl"
   ]
  },
  {
   "cell_type": "code",
   "execution_count": 10,
   "metadata": {},
   "outputs": [
    {
     "data": {
      "text/plain": [
       "2500"
      ]
     },
     "execution_count": 10,
     "metadata": {},
     "output_type": "execute_result"
    }
   ],
   "source": [
    "# 외부 모듈 import\n",
    "import calculator as cal  # calculator.py 파일의 모듈을 import 하며 alias 를 cal 로 사용\n",
    "cal.add(10,20)\n",
    "cal.multiply(50,50)"
   ]
  },
  {
   "cell_type": "code",
   "execution_count": 2,
   "metadata": {},
   "outputs": [
    {
     "data": {
      "text/plain": [
       "100"
      ]
     },
     "execution_count": 2,
     "metadata": {},
     "output_type": "execute_result"
    }
   ],
   "source": [
    "from calculator import add     # calculator.py 파일의 모듈 중, add 함수만 import\n",
    "add(10,20)\n",
    "# multiply(10, 10)  # NameError : not defined\n",
    "\n",
    "from calculator import * # calculator.py 파일의 모듈 중, 모든 함수 import\n",
    "multiply(10, 10)"
   ]
  },
  {
   "cell_type": "code",
   "execution_count": 12,
   "metadata": {},
   "outputs": [
    {
     "name": "stdout",
     "output_type": "stream",
     "text": [
      "30\n",
      "200\n"
     ]
    }
   ],
   "source": [
    "# first.py (import second), second.py\n",
    "# >> Python first.py    # __name__ 은 '__main__', second.py 의 __name__은 'second'\n",
    "# >> Python second.py   # second.py 의 __name__ 은 '__main__'"
   ]
  },
  {
   "cell_type": "code",
   "execution_count": null,
   "metadata": {},
   "outputs": [],
   "source": []
  }
 ],
 "metadata": {
  "kernelspec": {
   "display_name": "Python 3",
   "language": "python",
   "name": "python3"
  },
  "language_info": {
   "codemirror_mode": {
    "name": "ipython",
    "version": 3
   },
   "file_extension": ".py",
   "mimetype": "text/x-python",
   "name": "python",
   "nbconvert_exporter": "python",
   "pygments_lexer": "ipython3",
   "version": "3.7.6"
  }
 },
 "nbformat": 4,
 "nbformat_minor": 4
}
